{
 "cells": [
  {
   "cell_type": "code",
   "execution_count": 141,
   "id": "6ec25aaf-1666-4381-8b08-43837f930c2d",
   "metadata": {},
   "outputs": [],
   "source": [
    "import pandas as pd"
   ]
  },
  {
   "cell_type": "code",
   "execution_count": 142,
   "id": "86917967-ba7e-412d-8f41-e26f4e037173",
   "metadata": {},
   "outputs": [],
   "source": [
    "df = pd.read_csv(\"https://raw.githubusercontent.com/alexeygrigorev/datasets/master/laptops.csv\")\n"
   ]
  },
  {
   "cell_type": "code",
   "execution_count": 143,
   "id": "b33b3402-cf5c-48f2-8a89-6dc2d475f8e8",
   "metadata": {},
   "outputs": [
    {
     "data": {
      "text/plain": [
       "'Q1: Pandas Version: 2.2.3'"
      ]
     },
     "execution_count": 143,
     "metadata": {},
     "output_type": "execute_result"
    }
   ],
   "source": [
    "\"Q1: Pandas Version: \" + pd.__version__"
   ]
  },
  {
   "cell_type": "code",
   "execution_count": 144,
   "id": "b31d70e0-8f7a-4b70-9661-4e6cd0d47ad1",
   "metadata": {},
   "outputs": [
    {
     "name": "stdout",
     "output_type": "stream",
     "text": [
      "<class 'pandas.core.frame.DataFrame'>\n",
      "RangeIndex: 2160 entries, 0 to 2159\n",
      "Data columns (total 12 columns):\n",
      " #   Column        Non-Null Count  Dtype  \n",
      "---  ------        --------------  -----  \n",
      " 0   Laptop        2160 non-null   object \n",
      " 1   Status        2160 non-null   object \n",
      " 2   Brand         2160 non-null   object \n",
      " 3   Model         2160 non-null   object \n",
      " 4   CPU           2160 non-null   object \n",
      " 5   RAM           2160 non-null   int64  \n",
      " 6   Storage       2160 non-null   int64  \n",
      " 7   Storage type  2118 non-null   object \n",
      " 8   GPU           789 non-null    object \n",
      " 9   Screen        2156 non-null   float64\n",
      " 10  Touch         2160 non-null   object \n",
      " 11  Final Price   2160 non-null   float64\n",
      "dtypes: float64(2), int64(2), object(8)\n",
      "memory usage: 202.6+ KB\n"
     ]
    }
   ],
   "source": [
    "df.info()"
   ]
  },
  {
   "cell_type": "code",
   "execution_count": 145,
   "id": "2f30cd57-6c5b-4a25-8afa-5173ac3f4bb6",
   "metadata": {},
   "outputs": [
    {
     "data": {
      "text/plain": [
       "'Q2: Records Count: 2160'"
      ]
     },
     "execution_count": 145,
     "metadata": {},
     "output_type": "execute_result"
    }
   ],
   "source": [
    "\"Q2: Records Count: \" + str(df.shape[0])"
   ]
  },
  {
   "cell_type": "code",
   "execution_count": 146,
   "id": "bc23a3c0-2063-421f-a7d4-8cb5a57179d7",
   "metadata": {},
   "outputs": [
    {
     "data": {
      "text/html": [
       "<div>\n",
       "<style scoped>\n",
       "    .dataframe tbody tr th:only-of-type {\n",
       "        vertical-align: middle;\n",
       "    }\n",
       "\n",
       "    .dataframe tbody tr th {\n",
       "        vertical-align: top;\n",
       "    }\n",
       "\n",
       "    .dataframe thead th {\n",
       "        text-align: right;\n",
       "    }\n",
       "</style>\n",
       "<table border=\"1\" class=\"dataframe\">\n",
       "  <thead>\n",
       "    <tr style=\"text-align: right;\">\n",
       "      <th></th>\n",
       "      <th>Laptop</th>\n",
       "      <th>Status</th>\n",
       "      <th>Brand</th>\n",
       "      <th>Model</th>\n",
       "      <th>CPU</th>\n",
       "      <th>RAM</th>\n",
       "      <th>Storage</th>\n",
       "      <th>Storage type</th>\n",
       "      <th>GPU</th>\n",
       "      <th>Screen</th>\n",
       "      <th>Touch</th>\n",
       "      <th>Final Price</th>\n",
       "    </tr>\n",
       "  </thead>\n",
       "  <tbody>\n",
       "    <tr>\n",
       "      <th>0</th>\n",
       "      <td>ASUS ExpertBook B1 B1502CBA-EJ0436X Intel Core...</td>\n",
       "      <td>New</td>\n",
       "      <td>Asus</td>\n",
       "      <td>ExpertBook</td>\n",
       "      <td>Intel Core i5</td>\n",
       "      <td>8</td>\n",
       "      <td>512</td>\n",
       "      <td>SSD</td>\n",
       "      <td>NaN</td>\n",
       "      <td>15.6</td>\n",
       "      <td>No</td>\n",
       "      <td>1009.0</td>\n",
       "    </tr>\n",
       "    <tr>\n",
       "      <th>1</th>\n",
       "      <td>Alurin Go Start Intel Celeron N4020/8GB/256GB ...</td>\n",
       "      <td>New</td>\n",
       "      <td>Alurin</td>\n",
       "      <td>Go</td>\n",
       "      <td>Intel Celeron</td>\n",
       "      <td>8</td>\n",
       "      <td>256</td>\n",
       "      <td>SSD</td>\n",
       "      <td>NaN</td>\n",
       "      <td>15.6</td>\n",
       "      <td>No</td>\n",
       "      <td>299.0</td>\n",
       "    </tr>\n",
       "  </tbody>\n",
       "</table>\n",
       "</div>"
      ],
      "text/plain": [
       "                                              Laptop Status   Brand  \\\n",
       "0  ASUS ExpertBook B1 B1502CBA-EJ0436X Intel Core...    New    Asus   \n",
       "1  Alurin Go Start Intel Celeron N4020/8GB/256GB ...    New  Alurin   \n",
       "\n",
       "        Model            CPU  RAM  Storage Storage type  GPU  Screen Touch  \\\n",
       "0  ExpertBook  Intel Core i5    8      512          SSD  NaN    15.6    No   \n",
       "1          Go  Intel Celeron    8      256          SSD  NaN    15.6    No   \n",
       "\n",
       "   Final Price  \n",
       "0       1009.0  \n",
       "1        299.0  "
      ]
     },
     "execution_count": 146,
     "metadata": {},
     "output_type": "execute_result"
    }
   ],
   "source": [
    "df.head(2)"
   ]
  },
  {
   "cell_type": "code",
   "execution_count": 147,
   "id": "6d360f1b-a2ee-440a-9d2d-4903f15ac388",
   "metadata": {},
   "outputs": [
    {
     "data": {
      "text/plain": [
       "'Q3: Unique Brands: 27'"
      ]
     },
     "execution_count": 147,
     "metadata": {},
     "output_type": "execute_result"
    }
   ],
   "source": [
    "brands = df.Brand.unique()\n",
    "\"Q3: Unique Brands: \" + str(len(brands))"
   ]
  },
  {
   "cell_type": "code",
   "execution_count": 148,
   "id": "5968fd5b-8e25-420d-8dd2-084acc4cdcbd",
   "metadata": {},
   "outputs": [
    {
     "data": {
      "text/plain": [
       "'Q4: Column count with missing values: 3'"
      ]
     },
     "execution_count": 148,
     "metadata": {},
     "output_type": "execute_result"
    }
   ],
   "source": [
    "nullColumns = df.isnull().sum().values > 0\n",
    "\"Q4: Column count with missing values: \" + str(len(list(filter(lambda x: x, nullColumns))))"
   ]
  },
  {
   "cell_type": "code",
   "execution_count": 149,
   "id": "947c2d07-944a-40cc-b89b-94d46382a24b",
   "metadata": {},
   "outputs": [
    {
     "data": {
      "text/plain": [
       "array(['Asus', 'Alurin', 'MSI', 'HP', 'Lenovo', 'Medion', 'Acer', 'Apple',\n",
       "       'Razer', 'Gigabyte', 'Dell', 'LG', 'Samsung', 'PcCom', 'Microsoft',\n",
       "       'Primux', 'Prixton', 'Dynabook Toshiba', 'Thomson', 'Denver',\n",
       "       'Deep Gaming', 'Vant', 'Innjoo', 'Jetwing', 'Millenium', 'Realme',\n",
       "       'Toshiba'], dtype=object)"
      ]
     },
     "execution_count": 149,
     "metadata": {},
     "output_type": "execute_result"
    }
   ],
   "source": [
    "# check to make sure capitalization doesn't matter\n",
    "df.Brand.unique()"
   ]
  },
  {
   "cell_type": "code",
   "execution_count": 150,
   "id": "69b317c0-9dd0-48e8-a668-e698a0699961",
   "metadata": {},
   "outputs": [
    {
     "data": {
      "text/plain": [
       "'Q5: Max Dell Price: 3936.0'"
      ]
     },
     "execution_count": 150,
     "metadata": {},
     "output_type": "execute_result"
    }
   ],
   "source": [
    "maxDellPrice = df[df.Brand == \"Dell\"][\"Final Price\"].max()\n",
    "\"Q5: Max Dell Price: \" + str(maxDellPrice)"
   ]
  },
  {
   "cell_type": "code",
   "execution_count": 151,
   "id": "f8d61267-58c3-4fbd-a490-f3a8ad9e47f4",
   "metadata": {},
   "outputs": [
    {
     "data": {
      "text/plain": [
       "'Screen mean before update = 15.1681'"
      ]
     },
     "execution_count": 151,
     "metadata": {},
     "output_type": "execute_result"
    }
   ],
   "source": [
    "\"Screen mean before update = \" + str(df.Screen.mean().round(4))"
   ]
  },
  {
   "cell_type": "code",
   "execution_count": 152,
   "id": "19def584-6b96-40b6-937a-6f099ab7e269",
   "metadata": {},
   "outputs": [
    {
     "data": {
      "text/plain": [
       "np.float64(15.6)"
      ]
     },
     "execution_count": 152,
     "metadata": {},
     "output_type": "execute_result"
    }
   ],
   "source": [
    "medianScreenValue = df.Screen.median()\n",
    "medianScreenValue"
   ]
  },
  {
   "cell_type": "code",
   "execution_count": 153,
   "id": "69712a79-0587-4229-8976-09c0ed314e54",
   "metadata": {},
   "outputs": [
    {
     "data": {
      "text/plain": [
       "0    15.6\n",
       "Name: Screen, dtype: float64"
      ]
     },
     "execution_count": 153,
     "metadata": {},
     "output_type": "execute_result"
    }
   ],
   "source": [
    "modeScreenValue = df.Screen.mode()\n",
    "modeScreenValue"
   ]
  },
  {
   "cell_type": "code",
   "execution_count": 154,
   "id": "c9a0ce21-bfce-4062-96d0-ce1679176c2c",
   "metadata": {},
   "outputs": [],
   "source": [
    "# Before table modification the mode and median are the same value, 15.6\n",
    "df.Screen = df.Screen.fillna(15.6)"
   ]
  },
  {
   "cell_type": "code",
   "execution_count": 155,
   "id": "10818a5e-54ca-4a9b-8750-4fb8a4689386",
   "metadata": {},
   "outputs": [
    {
     "data": {
      "text/plain": [
       "np.float64(15.6)"
      ]
     },
     "execution_count": 155,
     "metadata": {},
     "output_type": "execute_result"
    }
   ],
   "source": [
    "newMediunScreen = df.Screen.median()\n",
    "newMediunScreen"
   ]
  },
  {
   "cell_type": "code",
   "execution_count": 156,
   "id": "6584119b-4ea2-4327-be90-849046c87323",
   "metadata": {},
   "outputs": [
    {
     "data": {
      "text/plain": [
       "np.int64(0)"
      ]
     },
     "execution_count": 156,
     "metadata": {},
     "output_type": "execute_result"
    }
   ],
   "source": [
    "df.Screen.isnull().sum()"
   ]
  },
  {
   "cell_type": "code",
   "execution_count": 157,
   "id": "294a1f90-cc42-41f7-8eda-729f15c50be1",
   "metadata": {},
   "outputs": [
    {
     "data": {
      "text/plain": [
       "'Screen mean after update = 15.1689'"
      ]
     },
     "execution_count": 157,
     "metadata": {},
     "output_type": "execute_result"
    }
   ],
   "source": [
    "\"Screen mean after update = \" + str(df.Screen.mean().round(4))"
   ]
  },
  {
   "cell_type": "code",
   "execution_count": 158,
   "id": "af88c076-d163-46a6-a9d8-bff848fe6cec",
   "metadata": {},
   "outputs": [],
   "source": [
    "# Q6: Has it changed? Answer: No.\n",
    "# However, for sanity check, we note the mean has changed\""
   ]
  },
  {
   "cell_type": "code",
   "execution_count": 159,
   "id": "2352fb1e-b791-45c0-88d8-9d56a85d5b0a",
   "metadata": {},
   "outputs": [],
   "source": [
    "injoo = df[df.Brand == \"Innjoo\"]"
   ]
  },
  {
   "cell_type": "code",
   "execution_count": 160,
   "id": "17a5f7fa-71bc-4684-a879-b232ce5e2786",
   "metadata": {},
   "outputs": [],
   "source": [
    "X = injoo[[\"RAM\", \"Storage\", \"Screen\"]].values"
   ]
  },
  {
   "cell_type": "code",
   "execution_count": 161,
   "id": "192e24d3-5518-4d14-9fb3-374002ed590b",
   "metadata": {},
   "outputs": [
    {
     "data": {
      "text/plain": [
       "array([[  8. , 256. ,  15.6],\n",
       "       [  8. , 512. ,  15.6],\n",
       "       [  4. ,  64. ,  14.1],\n",
       "       [  6. ,  64. ,  14.1],\n",
       "       [  6. , 128. ,  14.1],\n",
       "       [  6. , 128. ,  14.1]])"
      ]
     },
     "execution_count": 161,
     "metadata": {},
     "output_type": "execute_result"
    }
   ],
   "source": [
    "X"
   ]
  },
  {
   "cell_type": "code",
   "execution_count": 162,
   "id": "307a3f15-91ec-44df-8e9a-d3438b2571ea",
   "metadata": {},
   "outputs": [
    {
     "ename": "SyntaxError",
     "evalue": "invalid syntax (4267944022.py, line 1)",
     "output_type": "error",
     "traceback": [
      "\u001b[0;36m  Cell \u001b[0;32mIn[162], line 1\u001b[0;36m\u001b[0m\n\u001b[0;31m    XT = X.T // transpose rows / columns\u001b[0m\n\u001b[0m                          ^\u001b[0m\n\u001b[0;31mSyntaxError\u001b[0m\u001b[0;31m:\u001b[0m invalid syntax\n"
     ]
    }
   ],
   "source": [
    "XT = X.T // transpose rows / columns\n",
    "XT"
   ]
  },
  {
   "cell_type": "code",
   "execution_count": 163,
   "id": "54dd13fc-f1a6-4d34-a196-97a492cb9bd3",
   "metadata": {},
   "outputs": [
    {
     "data": {
      "text/plain": [
       "array([[2.52000e+02, 8.32000e+03, 5.59800e+02],\n",
       "       [8.32000e+03, 3.68640e+05, 1.73952e+04],\n",
       "       [5.59800e+02, 1.73952e+04, 1.28196e+03]])"
      ]
     },
     "execution_count": 163,
     "metadata": {},
     "output_type": "execute_result"
    }
   ],
   "source": [
    "XTX = XT.dot(X)\n",
    "XTX"
   ]
  },
  {
   "cell_type": "code",
   "execution_count": 164,
   "id": "c6ed8061-646e-443a-b5b1-da7abd664a69",
   "metadata": {},
   "outputs": [],
   "source": [
    "import numpy as np"
   ]
  },
  {
   "cell_type": "code",
   "execution_count": 165,
   "id": "f53ba099-c97b-465c-a086-d34ff93c4491",
   "metadata": {},
   "outputs": [
    {
     "data": {
      "text/plain": [
       "array([[ 2.78025381e-01, -1.51791334e-03, -1.00809855e-01],\n",
       "       [-1.51791334e-03,  1.58286725e-05,  4.48052175e-04],\n",
       "       [-1.00809855e-01,  4.48052175e-04,  3.87214888e-02]])"
      ]
     },
     "execution_count": 165,
     "metadata": {},
     "output_type": "execute_result"
    }
   ],
   "source": [
    "XTX_i = np.linalg.inv(XTX)\n",
    "XTX_i\n"
   ]
  },
  {
   "cell_type": "code",
   "execution_count": 166,
   "id": "28e2834e-7b75-4de7-a462-3e83dc44bf84",
   "metadata": {},
   "outputs": [],
   "source": [
    "y = np.array([1100, 1300, 800, 900, 1000, 1100])"
   ]
  },
  {
   "cell_type": "code",
   "execution_count": 167,
   "id": "7631d8c1-6cbd-4499-aa82-98dee705f3f3",
   "metadata": {},
   "outputs": [
    {
     "data": {
      "text/plain": [
       "array([45.58076606,  0.42783519, 45.29127938])"
      ]
     },
     "execution_count": 167,
     "metadata": {},
     "output_type": "execute_result"
    }
   ],
   "source": [
    "w = XTX_i.dot(XT).dot(y)\n",
    "w"
   ]
  },
  {
   "cell_type": "code",
   "execution_count": 168,
   "id": "52dccbd9-8fa2-45e7-9258-3c8e8f4914a3",
   "metadata": {},
   "outputs": [
    {
     "data": {
      "text/plain": [
       "'Q7: Linear regression result: 91.3'"
      ]
     },
     "execution_count": 168,
     "metadata": {},
     "output_type": "execute_result"
    }
   ],
   "source": [
    "#Q7 answer\n",
    "\"Q7: Linear regression result: \" + str(np.sum(w).round(2))"
   ]
  }
 ],
 "metadata": {
  "kernelspec": {
   "display_name": "Python 3 (ipykernel)",
   "language": "python",
   "name": "python3"
  },
  "language_info": {
   "codemirror_mode": {
    "name": "ipython",
    "version": 3
   },
   "file_extension": ".py",
   "mimetype": "text/x-python",
   "name": "python",
   "nbconvert_exporter": "python",
   "pygments_lexer": "ipython3",
   "version": "3.12.1"
  }
 },
 "nbformat": 4,
 "nbformat_minor": 5
}
