{
 "cells": [
  {
   "cell_type": "code",
   "execution_count": 71,
   "id": "11709372-2aec-431b-ab1f-1f9646971325",
   "metadata": {},
   "outputs": [],
   "source": [
    "import numpy as np\n",
    "# np.set_printoptions(legacy='1.25')"
   ]
  },
  {
   "cell_type": "code",
   "execution_count": 72,
   "id": "9c318a0c-9a82-491a-96d4-501ee4821962",
   "metadata": {},
   "outputs": [
    {
     "data": {
      "text/plain": [
       "array([1, 0, 0, 2])"
      ]
     },
     "execution_count": 72,
     "metadata": {},
     "output_type": "execute_result"
    }
   ],
   "source": [
    "# Vector ops : vectors denoted as columns in Lin Alg, as a row in numpy\n",
    "u = np.array([2,4,5,6])\n",
    "u\n",
    "v = np.array([1,0,0,2])\n",
    "v"
   ]
  },
  {
   "cell_type": "code",
   "execution_count": 73,
   "id": "1b578496-8aad-4d00-bcc7-c889d05b8e38",
   "metadata": {},
   "outputs": [
    {
     "data": {
      "text/plain": [
       "array([3, 4, 5, 8])"
      ]
     },
     "execution_count": 73,
     "metadata": {},
     "output_type": "execute_result"
    }
   ],
   "source": [
    "u + v"
   ]
  },
  {
   "cell_type": "code",
   "execution_count": 74,
   "id": "93049c43-f565-414e-b1b7-3c4db1ea4c70",
   "metadata": {},
   "outputs": [
    {
     "data": {
      "text/plain": [
       "(4,)"
      ]
     },
     "execution_count": 74,
     "metadata": {},
     "output_type": "execute_result"
    }
   ],
   "source": [
    "u.shape"
   ]
  },
  {
   "cell_type": "code",
   "execution_count": 75,
   "id": "651eb6fb-89b4-48b0-a14b-af6ff7423557",
   "metadata": {},
   "outputs": [
    {
     "data": {
      "text/plain": [
       "4"
      ]
     },
     "execution_count": 75,
     "metadata": {},
     "output_type": "execute_result"
    }
   ],
   "source": [
    "u.shape[0]"
   ]
  },
  {
   "cell_type": "code",
   "execution_count": 76,
   "id": "2e5e93f0-0178-42b3-9cd6-7e29def01550",
   "metadata": {},
   "outputs": [],
   "source": [
    "# vector by vector multiplication is called the dot product and produces a single number\n",
    "# each element is multiplied, element-wise, then summed\n",
    "# get the transpose of one of the vectors so that one is a row, one is a column, then do dot product\n",
    "# example of the numpy dot product, built-in func is u.dot(v)\n",
    "def vec_vec_mult(u, v):\n",
    "    assert u.shape[0] == v.shape[0]\n",
    "\n",
    "    n = u.shape[0]\n",
    "    result = 0.0\n",
    "    for i in range(n):\n",
    "        result = result + u[i] * v[i]\n",
    "\n",
    "    return result"
   ]
  },
  {
   "cell_type": "code",
   "execution_count": 77,
   "id": "9a892867-d03b-48b4-be08-9920d15b9e08",
   "metadata": {},
   "outputs": [
    {
     "data": {
      "text/plain": [
       "14.0"
      ]
     },
     "execution_count": 77,
     "metadata": {},
     "output_type": "execute_result"
    }
   ],
   "source": [
    "vec_vec_mult(u, v)"
   ]
  },
  {
   "cell_type": "code",
   "execution_count": 78,
   "id": "b9f3e455-c1ea-4169-897a-c5931e84e3cd",
   "metadata": {},
   "outputs": [
    {
     "data": {
      "text/plain": [
       "14"
      ]
     },
     "execution_count": 78,
     "metadata": {},
     "output_type": "execute_result"
    }
   ],
   "source": [
    "u.dot(v)"
   ]
  },
  {
   "cell_type": "code",
   "execution_count": 79,
   "id": "6a10b372-ac61-450d-a361-1ccfdae0bccd",
   "metadata": {},
   "outputs": [
    {
     "data": {
      "text/plain": [
       "array([[2, 4, 5, 6],\n",
       "       [1, 2, 1, 2],\n",
       "       [3, 1, 2, 1]])"
      ]
     },
     "execution_count": 79,
     "metadata": {},
     "output_type": "execute_result"
    }
   ],
   "source": [
    "t = np.array([[2,4,5,6],[1,2,1,2],[3,1,2,1]])\n",
    "t"
   ]
  },
  {
   "cell_type": "code",
   "execution_count": 80,
   "id": "4a50ef74-c760-498f-a87d-4cb28077e369",
   "metadata": {},
   "outputs": [
    {
     "data": {
      "text/plain": [
       "array([14,  5,  5])"
      ]
     },
     "execution_count": 80,
     "metadata": {},
     "output_type": "execute_result"
    }
   ],
   "source": [
    "# for matrix by vector dot product, each row of matrix gets dot'ed by the vector\n",
    "t.dot(v)"
   ]
  },
  {
   "cell_type": "code",
   "execution_count": 81,
   "id": "29a7a18b-59b0-4fcf-a8e6-a78298702498",
   "metadata": {},
   "outputs": [
    {
     "data": {
      "text/plain": [
       "array([1., 1., 1.])"
      ]
     },
     "execution_count": 81,
     "metadata": {},
     "output_type": "execute_result"
    }
   ],
   "source": [
    "# example where the dimensions don't match to show error\n",
    "vv = np.ones(3)\n",
    "vv"
   ]
  },
  {
   "cell_type": "code",
   "execution_count": 82,
   "id": "7a06f8e2-0bec-4303-8305-7f9f91d2161a",
   "metadata": {},
   "outputs": [
    {
     "ename": "ValueError",
     "evalue": "shapes (3,4) and (3,) not aligned: 4 (dim 1) != 3 (dim 0)",
     "output_type": "error",
     "traceback": [
      "\u001b[0;31m---------------------------------------------------------------------------\u001b[0m",
      "\u001b[0;31mValueError\u001b[0m                                Traceback (most recent call last)",
      "Cell \u001b[0;32mIn[82], line 1\u001b[0m\n\u001b[0;32m----> 1\u001b[0m \u001b[43mt\u001b[49m\u001b[38;5;241;43m.\u001b[39;49m\u001b[43mdot\u001b[49m\u001b[43m(\u001b[49m\u001b[43mvv\u001b[49m\u001b[43m)\u001b[49m \u001b[38;5;66;03m# expect error\u001b[39;00m\n",
      "\u001b[0;31mValueError\u001b[0m: shapes (3,4) and (3,) not aligned: 4 (dim 1) != 3 (dim 0)"
     ]
    }
   ],
   "source": [
    "t.dot(vv) # expect error"
   ]
  },
  {
   "cell_type": "code",
   "execution_count": 83,
   "id": "b0a7b8dd-4e84-4814-a020-7e808497621f",
   "metadata": {},
   "outputs": [
    {
     "data": {
      "text/plain": [
       "array([[1. , 1. , 2. ],\n",
       "       [0. , 0.5, 1. ],\n",
       "       [0. , 2. , 1. ],\n",
       "       [2. , 1. , 0. ]])"
      ]
     },
     "execution_count": 83,
     "metadata": {},
     "output_type": "execute_result"
    }
   ],
   "source": [
    "# matrix dot matrix\n",
    "w = np.array([[1,1,2],[0,.5,1],[0,2,1],[2,1,0]])\n",
    "w"
   ]
  },
  {
   "cell_type": "code",
   "execution_count": 84,
   "id": "d46ebfa3-924e-4113-8b84-4afb925b5559",
   "metadata": {},
   "outputs": [
    {
     "data": {
      "text/plain": [
       "4"
      ]
     },
     "execution_count": 84,
     "metadata": {},
     "output_type": "execute_result"
    }
   ],
   "source": [
    "w.shape[0] # row shape"
   ]
  },
  {
   "cell_type": "code",
   "execution_count": 85,
   "id": "03ad1f3b-e64f-4467-864b-0ebd7a4297f9",
   "metadata": {},
   "outputs": [
    {
     "data": {
      "text/plain": [
       "3"
      ]
     },
     "execution_count": 85,
     "metadata": {},
     "output_type": "execute_result"
    }
   ],
   "source": [
    "w.shape[1] # column shape"
   ]
  },
  {
   "cell_type": "code",
   "execution_count": 86,
   "id": "663ea120-cdbd-4230-8ab2-a2fd92d77439",
   "metadata": {},
   "outputs": [
    {
     "data": {
      "text/plain": [
       "array([[14. , 20. , 13. ],\n",
       "       [ 5. ,  6. ,  5. ],\n",
       "       [ 5. ,  8.5,  9. ]])"
      ]
     },
     "execution_count": 86,
     "metadata": {},
     "output_type": "execute_result"
    }
   ],
   "source": [
    "x = t.dot(w)\n",
    "x"
   ]
  },
  {
   "cell_type": "code",
   "execution_count": 87,
   "id": "56dae489-1928-4222-80b1-3651e2b7c8d0",
   "metadata": {},
   "outputs": [
    {
     "data": {
      "text/plain": [
       "array([[1., 0., 0.],\n",
       "       [0., 1., 0.],\n",
       "       [0., 0., 1.]])"
      ]
     },
     "execution_count": 87,
     "metadata": {},
     "output_type": "execute_result"
    }
   ],
   "source": [
    "# Identity Matrix: square matrix with 1's on the diagonal and 0's everywhere else.\n",
    "# when I matrix is doted with itself it returns itself\n",
    "I = np.eye(3)\n",
    "I"
   ]
  },
  {
   "cell_type": "code",
   "execution_count": 88,
   "id": "921c2698-d140-4771-9cdd-d19d65bfd302",
   "metadata": {},
   "outputs": [
    {
     "data": {
      "text/plain": [
       "array([[1., 0., 0.],\n",
       "       [0., 1., 0.],\n",
       "       [0., 0., 1.]])"
      ]
     },
     "execution_count": 88,
     "metadata": {},
     "output_type": "execute_result"
    }
   ],
   "source": [
    "I.dot(I)"
   ]
  },
  {
   "cell_type": "code",
   "execution_count": 89,
   "id": "46896943-50c8-4149-80b4-83e728ac282d",
   "metadata": {},
   "outputs": [
    {
     "data": {
      "text/plain": [
       "array([[1. , 1. , 2. ],\n",
       "       [0. , 0.5, 1. ],\n",
       "       [0. , 2. , 1. ],\n",
       "       [2. , 1. , 0. ]])"
      ]
     },
     "execution_count": 89,
     "metadata": {},
     "output_type": "execute_result"
    }
   ],
   "source": [
    "w.dot(I)"
   ]
  },
  {
   "cell_type": "code",
   "execution_count": 90,
   "id": "3f57cef6-9627-4dbe-9a46-3b64fd3d56be",
   "metadata": {},
   "outputs": [
    {
     "data": {
      "text/plain": [
       "array([[-0.1503268 ,  0.90849673, -0.2875817 ],\n",
       "       [ 0.26143791, -0.79738562,  0.06535948],\n",
       "       [-0.16339869,  0.24836601,  0.20915033]])"
      ]
     },
     "execution_count": 90,
     "metadata": {},
     "output_type": "execute_result"
    }
   ],
   "source": [
    "# Matrix Inverse. Requires a square matrix (like x and I are, above)\n",
    "x_inv = np.linalg.inv(x)\n",
    "x_inv"
   ]
  },
  {
   "cell_type": "code",
   "execution_count": 91,
   "id": "ce551505-77b6-4eea-86e5-24ead567bcad",
   "metadata": {},
   "outputs": [
    {
     "data": {
      "text/plain": [
       "array([[ 1.00000000e+00, -2.27595720e-15, -3.88578059e-16],\n",
       "       [ 8.32667268e-17,  1.00000000e+00,  5.55111512e-17],\n",
       "       [ 8.32667268e-17, -2.77555756e-16,  1.00000000e+00]])"
      ]
     },
     "execution_count": 91,
     "metadata": {},
     "output_type": "execute_result"
    }
   ],
   "source": [
    "# dot of a square matrix with its inverse yields the Identity matrix\n",
    "x.dot(x_inv)"
   ]
  },
  {
   "cell_type": "code",
   "execution_count": 92,
   "id": "a4febe31-eec5-41b9-bc2e-a16d5d4a254f",
   "metadata": {},
   "outputs": [
    {
     "data": {
      "text/plain": [
       "array([[ 1.00000000e+00,  8.32667268e-16,  7.77156117e-16],\n",
       "       [-1.11022302e-15,  1.00000000e+00, -1.11022302e-15],\n",
       "       [ 9.43689571e-16,  8.04911693e-16,  1.00000000e+00]])"
      ]
     },
     "execution_count": 92,
     "metadata": {},
     "output_type": "execute_result"
    }
   ],
   "source": [
    "x_inv.dot(x)"
   ]
  },
  {
   "cell_type": "code",
   "execution_count": null,
   "id": "96f03285-0169-4970-afa5-3d9cdf22ccea",
   "metadata": {},
   "outputs": [],
   "source": []
  }
 ],
 "metadata": {
  "kernelspec": {
   "display_name": "Python 3 (ipykernel)",
   "language": "python",
   "name": "python3"
  },
  "language_info": {
   "codemirror_mode": {
    "name": "ipython",
    "version": 3
   },
   "file_extension": ".py",
   "mimetype": "text/x-python",
   "name": "python",
   "nbconvert_exporter": "python",
   "pygments_lexer": "ipython3",
   "version": "3.12.1"
  }
 },
 "nbformat": 4,
 "nbformat_minor": 5
}
