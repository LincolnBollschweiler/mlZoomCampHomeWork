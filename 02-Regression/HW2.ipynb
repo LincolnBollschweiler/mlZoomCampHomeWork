{
 "cells": [
  {
   "cell_type": "code",
   "execution_count": 1,
   "id": "8a1b239d-66e7-4356-94f4-14cc292fed86",
   "metadata": {},
   "outputs": [],
   "source": [
    "import pandas as pd\n",
    "import numpy as np\n",
    "import matplotlib as plt\n",
    "import seaborn as sns"
   ]
  },
  {
   "cell_type": "markdown",
   "id": "9e95c6f3-237f-4a56-a2d4-908b9206000b",
   "metadata": {},
   "source": [
    "# Data Prep"
   ]
  },
  {
   "cell_type": "code",
   "execution_count": 4,
   "id": "afd66c2a-cf3b-46d0-93fa-aa7c8c218c24",
   "metadata": {},
   "outputs": [
    {
     "name": "stdout",
     "output_type": "stream",
     "text": [
      "--2025-02-07 20:31:04--  https://raw.githubusercontent.com/alexeygrigorev/datasets/master/laptops.csv\n",
      "Resolving raw.githubusercontent.com (raw.githubusercontent.com)... 185.199.110.133, 185.199.109.133, 185.199.111.133, ...\n",
      "Connecting to raw.githubusercontent.com (raw.githubusercontent.com)|185.199.110.133|:443... connected.\n",
      "HTTP request sent, awaiting response... 200 OK\n",
      "Length: 298573 (292K) [text/plain]\n",
      "Saving to: ‘laptops.csv.1’\n",
      "\n",
      "laptops.csv.1       100%[===================>] 291.58K  --.-KB/s    in 0.01s   \n",
      "\n",
      "2025-02-07 20:31:04 (20.2 MB/s) - ‘laptops.csv.1’ saved [298573/298573]\n",
      "\n"
     ]
    }
   ],
   "source": [
    "hwData = \"https://raw.githubusercontent.com/alexeygrigorev/datasets/master/laptops.csv\"\n",
    "!wget $hwData"
   ]
  },
  {
   "cell_type": "code",
   "execution_count": 5,
   "id": "d9148558-925e-4b86-9dba-ca9fbfe7990a",
   "metadata": {},
   "outputs": [
    {
     "data": {
      "text/html": [
       "<div>\n",
       "<style scoped>\n",
       "    .dataframe tbody tr th:only-of-type {\n",
       "        vertical-align: middle;\n",
       "    }\n",
       "\n",
       "    .dataframe tbody tr th {\n",
       "        vertical-align: top;\n",
       "    }\n",
       "\n",
       "    .dataframe thead th {\n",
       "        text-align: right;\n",
       "    }\n",
       "</style>\n",
       "<table border=\"1\" class=\"dataframe\">\n",
       "  <thead>\n",
       "    <tr style=\"text-align: right;\">\n",
       "      <th></th>\n",
       "      <th>Laptop</th>\n",
       "      <th>Status</th>\n",
       "      <th>Brand</th>\n",
       "      <th>Model</th>\n",
       "      <th>CPU</th>\n",
       "      <th>RAM</th>\n",
       "      <th>Storage</th>\n",
       "      <th>Storage type</th>\n",
       "      <th>GPU</th>\n",
       "      <th>Screen</th>\n",
       "      <th>Touch</th>\n",
       "      <th>Final Price</th>\n",
       "    </tr>\n",
       "  </thead>\n",
       "  <tbody>\n",
       "    <tr>\n",
       "      <th>0</th>\n",
       "      <td>ASUS ExpertBook B1 B1502CBA-EJ0436X Intel Core...</td>\n",
       "      <td>New</td>\n",
       "      <td>Asus</td>\n",
       "      <td>ExpertBook</td>\n",
       "      <td>Intel Core i5</td>\n",
       "      <td>8</td>\n",
       "      <td>512</td>\n",
       "      <td>SSD</td>\n",
       "      <td>NaN</td>\n",
       "      <td>15.6</td>\n",
       "      <td>No</td>\n",
       "      <td>1009.0</td>\n",
       "    </tr>\n",
       "    <tr>\n",
       "      <th>1</th>\n",
       "      <td>Alurin Go Start Intel Celeron N4020/8GB/256GB ...</td>\n",
       "      <td>New</td>\n",
       "      <td>Alurin</td>\n",
       "      <td>Go</td>\n",
       "      <td>Intel Celeron</td>\n",
       "      <td>8</td>\n",
       "      <td>256</td>\n",
       "      <td>SSD</td>\n",
       "      <td>NaN</td>\n",
       "      <td>15.6</td>\n",
       "      <td>No</td>\n",
       "      <td>299.0</td>\n",
       "    </tr>\n",
       "    <tr>\n",
       "      <th>2</th>\n",
       "      <td>ASUS ExpertBook B1 B1502CBA-EJ0424X Intel Core...</td>\n",
       "      <td>New</td>\n",
       "      <td>Asus</td>\n",
       "      <td>ExpertBook</td>\n",
       "      <td>Intel Core i3</td>\n",
       "      <td>8</td>\n",
       "      <td>256</td>\n",
       "      <td>SSD</td>\n",
       "      <td>NaN</td>\n",
       "      <td>15.6</td>\n",
       "      <td>No</td>\n",
       "      <td>789.0</td>\n",
       "    </tr>\n",
       "  </tbody>\n",
       "</table>\n",
       "</div>"
      ],
      "text/plain": [
       "                                              Laptop Status   Brand  \\\n",
       "0  ASUS ExpertBook B1 B1502CBA-EJ0436X Intel Core...    New    Asus   \n",
       "1  Alurin Go Start Intel Celeron N4020/8GB/256GB ...    New  Alurin   \n",
       "2  ASUS ExpertBook B1 B1502CBA-EJ0424X Intel Core...    New    Asus   \n",
       "\n",
       "        Model            CPU  RAM  Storage Storage type  GPU  Screen Touch  \\\n",
       "0  ExpertBook  Intel Core i5    8      512          SSD  NaN    15.6    No   \n",
       "1          Go  Intel Celeron    8      256          SSD  NaN    15.6    No   \n",
       "2  ExpertBook  Intel Core i3    8      256          SSD  NaN    15.6    No   \n",
       "\n",
       "   Final Price  \n",
       "0       1009.0  \n",
       "1        299.0  \n",
       "2        789.0  "
      ]
     },
     "execution_count": 5,
     "metadata": {},
     "output_type": "execute_result"
    }
   ],
   "source": [
    "df = pd.read_csv(hwData)\n",
    "df.head(3)"
   ]
  },
  {
   "cell_type": "code",
   "execution_count": 6,
   "id": "cd7ee9a4-9745-42f5-bf4c-867f174a6a4e",
   "metadata": {},
   "outputs": [],
   "source": [
    "df.columns = df.columns.str.lower().str.replace(\" \", \"_\")\n",
    "useCols = [\"ram\", \"storage\", \"screen\", \"final_price\"]"
   ]
  },
  {
   "cell_type": "code",
   "execution_count": 7,
   "id": "5da4cc1d-0b0c-4c4a-9eb3-670ec21922ef",
   "metadata": {},
   "outputs": [],
   "source": [
    "%matplotlib inline"
   ]
  },
  {
   "cell_type": "markdown",
   "id": "8645fd14-07d7-4bb7-9c57-9d317a1d433f",
   "metadata": {},
   "source": [
    "# Q1"
   ]
  },
  {
   "cell_type": "code",
   "execution_count": 168,
   "id": "70143fe9-476c-4fb8-aae5-5e6fcd44257a",
   "metadata": {},
   "outputs": [
    {
     "data": {
      "text/plain": [
       "<Axes: xlabel='final_price', ylabel='Count'>"
      ]
     },
     "execution_count": 168,
     "metadata": {},
     "output_type": "execute_result"
    },
    {
     "data": {
      "image/png": "[encoded data removed]",
      "text/plain": [
       "<Figure size 640x480 with 1 Axes>"
      ]
     },
     "metadata": {},
     "output_type": "display_data"
    }
   ],
   "source": [
    "sns.histplot(df.final_price)"
   ]
  },
  {
   "cell_type": "markdown",
   "id": "f1f9e8de-dc2c-410a-94d9-4ea3d4f7dbb4",
   "metadata": {},
   "source": [
    "## Does the final_price have a long tail?\n",
    "### Yes. This means we should need to use np.log1p(of output values). However, since we are not told to do so, we won't"
   ]
  },
  {
   "cell_type": "code",
   "execution_count": 169,
   "id": "1876cc5a-b132-48fe-8d90-106fa42bc8db",
   "metadata": {},
   "outputs": [
    {
     "data": {
      "text/plain": [
       "ram            0\n",
       "storage        0\n",
       "screen         4\n",
       "final_price    0\n",
       "dtype: int64"
      ]
     },
     "execution_count": 169,
     "metadata": {},
     "output_type": "execute_result"
    }
   ],
   "source": [
    "dfUsed = df[useCols]\n",
    "dfUsed.isnull().sum()"
   ]
  },
  {
   "cell_type": "markdown",
   "id": "53e811f1-742a-413e-8cb0-1f90ac4e9a1a",
   "metadata": {},
   "source": [
    "## There's one column with missing values. What is it?\n",
    "### (c) 'screen'"
   ]
  },
  {
   "cell_type": "code",
   "execution_count": 170,
   "id": "13b30fa7-6aeb-4559-a285-4c30322ad062",
   "metadata": {},
   "outputs": [
    {
     "data": {
      "text/plain": [
       "np.float64(16.0)"
      ]
     },
     "execution_count": 170,
     "metadata": {},
     "output_type": "execute_result"
    }
   ],
   "source": [
    "dfUsed.ram.median()"
   ]
  },
  {
   "cell_type": "markdown",
   "id": "c2cde1bf-9e87-4eed-aba5-784c677669cc",
   "metadata": {},
   "source": [
    "# Question 2\n",
    "## What's the median (50% percentile) for variable 'ram'?\n",
    "## 16"
   ]
  },
  {
   "cell_type": "markdown",
   "id": "9592fbe8-7385-4f6b-9eed-9470054b012f",
   "metadata": {},
   "source": [
    "# Question 3\n",
    "## Prep"
   ]
  },
  {
   "cell_type": "code",
   "execution_count": 172,
   "id": "dc9063b7-81c6-43d5-8f60-f77f4374e329",
   "metadata": {},
   "outputs": [
    {
     "data": {
      "text/plain": [
       "(1296, 432, 432)"
      ]
     },
     "execution_count": 172,
     "metadata": {},
     "output_type": "execute_result"
    }
   ],
   "source": [
    "dataLength = len(dfUsed)\n",
    "twentyP = int(0.2 * dataLength)\n",
    "testSize = dataLength - 2 * twentyP\n",
    "idx = np.arange(dataLength)\n",
    "np.random.seed(42)\n",
    "np.random.shuffle(idx)\n",
    "trainData = dfUsed.iloc[idx[:testSize]].reset_index(drop=True)\n",
    "valData = dfUsed.iloc[idx[testSize:testSize + twentyP]].reset_index(drop=True)\n",
    "testData = dfUsed.iloc[idx[testSize + twentyP:]].reset_index(drop=True)\n",
    "len(trainData), len(valData), len(testData)"
   ]
  },
  {
   "cell_type": "code",
   "execution_count": 173,
   "id": "754d40dc-e626-4a32-a030-35830fb5bd6c",
   "metadata": {},
   "outputs": [
    {
     "data": {
      "text/html": [
       "<div>\n",
       "<style scoped>\n",
       "    .dataframe tbody tr th:only-of-type {\n",
       "        vertical-align: middle;\n",
       "    }\n",
       "\n",
       "    .dataframe tbody tr th {\n",
       "        vertical-align: top;\n",
       "    }\n",
       "\n",
       "    .dataframe thead th {\n",
       "        text-align: right;\n",
       "    }\n",
       "</style>\n",
       "<table border=\"1\" class=\"dataframe\">\n",
       "  <thead>\n",
       "    <tr style=\"text-align: right;\">\n",
       "      <th></th>\n",
       "      <th>ram</th>\n",
       "      <th>storage</th>\n",
       "      <th>screen</th>\n",
       "    </tr>\n",
       "  </thead>\n",
       "  <tbody>\n",
       "    <tr>\n",
       "      <th>0</th>\n",
       "      <td>32</td>\n",
       "      <td>1000</td>\n",
       "      <td>15.6</td>\n",
       "    </tr>\n",
       "    <tr>\n",
       "      <th>1</th>\n",
       "      <td>4</td>\n",
       "      <td>64</td>\n",
       "      <td>14.1</td>\n",
       "    </tr>\n",
       "    <tr>\n",
       "      <th>2</th>\n",
       "      <td>32</td>\n",
       "      <td>1000</td>\n",
       "      <td>14.0</td>\n",
       "    </tr>\n",
       "    <tr>\n",
       "      <th>3</th>\n",
       "      <td>16</td>\n",
       "      <td>512</td>\n",
       "      <td>13.3</td>\n",
       "    </tr>\n",
       "    <tr>\n",
       "      <th>4</th>\n",
       "      <td>32</td>\n",
       "      <td>1000</td>\n",
       "      <td>16.0</td>\n",
       "    </tr>\n",
       "    <tr>\n",
       "      <th>...</th>\n",
       "      <td>...</td>\n",
       "      <td>...</td>\n",
       "      <td>...</td>\n",
       "    </tr>\n",
       "    <tr>\n",
       "      <th>1291</th>\n",
       "      <td>8</td>\n",
       "      <td>256</td>\n",
       "      <td>14.0</td>\n",
       "    </tr>\n",
       "    <tr>\n",
       "      <th>1292</th>\n",
       "      <td>32</td>\n",
       "      <td>1000</td>\n",
       "      <td>16.0</td>\n",
       "    </tr>\n",
       "    <tr>\n",
       "      <th>1293</th>\n",
       "      <td>16</td>\n",
       "      <td>512</td>\n",
       "      <td>15.6</td>\n",
       "    </tr>\n",
       "    <tr>\n",
       "      <th>1294</th>\n",
       "      <td>16</td>\n",
       "      <td>512</td>\n",
       "      <td>14.0</td>\n",
       "    </tr>\n",
       "    <tr>\n",
       "      <th>1295</th>\n",
       "      <td>16</td>\n",
       "      <td>512</td>\n",
       "      <td>14.0</td>\n",
       "    </tr>\n",
       "  </tbody>\n",
       "</table>\n",
       "<p>1296 rows × 3 columns</p>\n",
       "</div>"
      ],
      "text/plain": [
       "      ram  storage  screen\n",
       "0      32     1000    15.6\n",
       "1       4       64    14.1\n",
       "2      32     1000    14.0\n",
       "3      16      512    13.3\n",
       "4      32     1000    16.0\n",
       "...   ...      ...     ...\n",
       "1291    8      256    14.0\n",
       "1292   32     1000    16.0\n",
       "1293   16      512    15.6\n",
       "1294   16      512    14.0\n",
       "1295   16      512    14.0\n",
       "\n",
       "[1296 rows x 3 columns]"
      ]
     },
     "execution_count": 173,
     "metadata": {},
     "output_type": "execute_result"
    }
   ],
   "source": [
    "yTrain = trainData.final_price.values\n",
    "yVal = valData.final_price.values\n",
    "yTest = testData.final_price.values\n",
    "\n",
    "del trainData[\"final_price\"]\n",
    "del valData[\"final_price\"]\n",
    "del testData[\"final_price\"]\n",
    "trainData"
   ]
  },
  {
   "cell_type": "code",
   "execution_count": 174,
   "id": "8104d18d-296d-42af-9746-4fc163b3ecba",
   "metadata": {},
   "outputs": [],
   "source": [
    "def train_lin_regression_reg(X, y, r=0.0):\n",
    "    ones = np.ones(X.shape[0])\n",
    "    X = np.column_stack([ones, X])\n",
    "    XT = X.T\n",
    "    XTX = XT.dot(X) # called the Gram Matrix\n",
    "    # add our regularization variable to the diagonal\n",
    "    XTX = XTX + r * np.eye(XTX.shape[0])\n",
    "    XTX_inv = np.linalg.inv(XTX)\n",
    "    w_full = (XTX_inv.dot(XT)).dot(y)\n",
    "    return w_full[0], w_full[1:]"
   ]
  },
  {
   "cell_type": "code",
   "execution_count": 175,
   "id": "70e2961a-f3b1-41d0-861f-829172ed30fb",
   "metadata": {},
   "outputs": [],
   "source": [
    "def prepare_X(df, fill=0):\n",
    "    df = df.copy()\n",
    "    #df['age'] = 2017 - df.year\n",
    "    #features = base.copy()\n",
    "    #features.append('age')\n",
    "\n",
    "    #for v in [2,3,4]:\n",
    "    #    df['num_doors_%d' % v] = (df.number_of_doors == v).astype(\"int\")\n",
    "    #    features.append('num_doors_%d' % v)\n",
    "\n",
    "    #for cat, values in categories.items():\n",
    "    #    for value in values:\n",
    "    #        df['%s_%s' % (cat, value)] = (df[cat] == value).astype(\"int\")\n",
    "    #        features.append('%s_%s' % (cat, value))\n",
    "                        \n",
    "    #df_num = df[features].fillna(0)\n",
    "    df_num = df.fillna(fill)\n",
    "    return df_num.values"
   ]
  },
  {
   "cell_type": "code",
   "execution_count": 176,
   "id": "db2bca3d-201b-467b-8ea5-782cc407df5a",
   "metadata": {},
   "outputs": [],
   "source": [
    "def RMSE(pred, actual):\n",
    "    return round(np.sqrt(np.mean((pred - actual)**2)), 2)"
   ]
  },
  {
   "cell_type": "code",
   "execution_count": 177,
   "id": "b163d060-830d-4030-bc1e-ec8591740041",
   "metadata": {},
   "outputs": [
    {
     "data": {
      "text/plain": [
       "np.float64(602.18)"
      ]
     },
     "execution_count": 177,
     "metadata": {},
     "output_type": "execute_result"
    }
   ],
   "source": [
    "xTrain = prepare_X(trainData, trainData.screen.mean())\n",
    "w0, w = train_lin_regression_reg(xTrain, yTrain)\n",
    "y_pred = w0 + xTrain.dot(w)\n",
    "RMSE(y_pred, yTrain)"
   ]
  },
  {
   "cell_type": "code",
   "execution_count": 178,
   "id": "8446e0e2-1553-4a55-ab87-a7e06298371c",
   "metadata": {},
   "outputs": [
    {
     "data": {
      "text/plain": [
       "np.float64(602.39)"
      ]
     },
     "execution_count": 178,
     "metadata": {},
     "output_type": "execute_result"
    }
   ],
   "source": [
    "xTrain = prepare_X(trainData) # \n",
    "w0, w  = train_lin_regression_reg(xTrain, yTrain)\n",
    "y_pred = w0 + xTrain.dot(w)\n",
    "RMSE(y_pred, yTrain)"
   ]
  },
  {
   "cell_type": "markdown",
   "id": "b005db30-8c17-4ae8-a414-fc7ecb4b81b4",
   "metadata": {},
   "source": [
    "## Q3: is RMSE different if we use 0 or screen.mean to fill empty values\n",
    "### With mean (barely better ... results are really bad and we should be using log1p"
   ]
  },
  {
   "cell_type": "markdown",
   "id": "fe60d4db-92aa-44e6-ac31-0af7d5045275",
   "metadata": {},
   "source": [
    "# Q4\n",
    "## Prep"
   ]
  },
  {
   "cell_type": "code",
   "execution_count": 179,
   "id": "446e2691-b472-4452-8578-3cc4c6023eb0",
   "metadata": {},
   "outputs": [
    {
     "name": "stdout",
     "output_type": "stream",
     "text": [
      "0.0 597.36\n",
      "0.01 597.36\n",
      "0.1 597.35\n",
      "1 597.21\n",
      "5 597.01\n",
      "10 597.06\n",
      "100 597.9\n"
     ]
    }
   ],
   "source": [
    "X_train = prepare_X(trainData) # should be ok but just double-checking\n",
    "X_val = prepare_X(valData)\n",
    "\n",
    "for r in [0.0, 0.01, 0.1, 1, 5, 10, 100]:\n",
    "    w0, w = train_lin_regression_reg(X_train, yTrain, r)\n",
    "\n",
    "    y_pred = w0 + X_val.dot(w)\n",
    "    rmse = RMSE(yVal, y_pred)\n",
    "    print(r, rmse)\n",
    "    "
   ]
  },
  {
   "cell_type": "markdown",
   "id": "2ccfb5ed-cbd4-4f71-a16b-1a70574e8ca9",
   "metadata": {},
   "source": [
    "##### Question: Which r value gives the best RMSE? 0, 0.1, 1,10, 100?\n",
    "### 5 => returns 597.01"
   ]
  },
  {
   "cell_type": "markdown",
   "id": "0cadf3ea-2204-479c-92af-40db6e6e1fa4",
   "metadata": {},
   "source": [
    "# Q5\n",
    "## Prep"
   ]
  },
  {
   "cell_type": "code",
   "execution_count": 180,
   "id": "aa58a418-5998-4e65-bd4c-5b5521800184",
   "metadata": {},
   "outputs": [],
   "source": [
    "rmses = []\n",
    "for seed in [0, 1, 2, 3, 4, 5, 6, 7, 8, 9]:\n",
    "    idx = np.arange(dataLength)\n",
    "    np.random.seed(seed)\n",
    "    np.random.shuffle(idx)\n",
    "    trainData = dfUsed.iloc[idx[:testSize]].reset_index(drop=True)\n",
    "    valData = dfUsed.iloc[idx[testSize:testSize + twentyP]].reset_index(drop=True)\n",
    "    testData = dfUsed.iloc[idx[testSize + twentyP:]].reset_index(drop=True)\n",
    "\n",
    "    yTrain = trainData.final_price.values\n",
    "    yVal = valData.final_price.values\n",
    "    yTest = testData.final_price.values\n",
    "    \n",
    "    del trainData[\"final_price\"]\n",
    "    del valData[\"final_price\"]\n",
    "    del testData[\"final_price\"]\n",
    "\n",
    "    xTrain = prepare_X(trainData)\n",
    "    xVal = prepare_X(valData)\n",
    "\n",
    "    w0, w = train_lin_regression_reg(xTrain, yTrain)\n",
    "    yPred = w0 + xVal.dot(w)\n",
    "    rmses.append(RMSE(yVal, yPred))     "
   ]
  },
  {
   "cell_type": "markdown",
   "id": "a833eecf-182d-48ce-90af-ba84f38cd4ea",
   "metadata": {},
   "source": [
    "## Question: what is STD of all 10 seed values?"
   ]
  },
  {
   "cell_type": "code",
   "execution_count": 181,
   "id": "6d834975-4f83-4115-af46-a4385b61e438",
   "metadata": {},
   "outputs": [
    {
     "data": {
      "text/plain": [
       "'Answer: 29.176'"
      ]
     },
     "execution_count": 181,
     "metadata": {},
     "output_type": "execute_result"
    }
   ],
   "source": [
    "\"Answer: \" + str(round(np.std(rmses), 3))"
   ]
  },
  {
   "cell_type": "markdown",
   "id": "331f47b4-867f-4474-a18a-8ff21ec45a39",
   "metadata": {},
   "source": [
    "# Q6\n",
    "## Prep"
   ]
  },
  {
   "cell_type": "code",
   "execution_count": 188,
   "id": "d655aff2-a0d3-4f26-9ce1-6e61d5c09f41",
   "metadata": {},
   "outputs": [],
   "source": [
    "idx = np.arange(dataLength)\n",
    "np.random.seed(9)\n",
    "np.random.shuffle(idx)\n",
    "trainData = dfUsed.iloc[idx[:testSize]].reset_index(drop=True)\n",
    "valData = dfUsed.iloc[idx[testSize:testSize + twentyP]].reset_index(drop=True)\n",
    "testData = dfUsed.iloc[idx[testSize + twentyP:]].reset_index(drop=True)\n",
    "\n",
    "yTrain = trainData.final_price.values\n",
    "yVal = valData.final_price.values\n",
    "yTest = testData.final_price.values\n",
    "\n",
    "del trainData[\"final_price\"]\n",
    "del valData[\"final_price\"]\n",
    "del testData[\"final_price\"]\n",
    "\n",
    "xFullTrain = pd.concat([trainData, valData]).reset_index(drop=True)\n",
    "yFullTrain = np.concatenate([yTrain, yVal])\n",
    "xTrain = prepare_X(xFullTrain)\n",
    "xTest = prepare_X(testData)\n",
    "\n",
    "w0, w = train_lin_regression_reg(xTrain, yFullTrain, 0.001)\n",
    "yPred = w0 + xTest.dot(w)\n",
    "rmse = RMSE(yPred, yTest)"
   ]
  },
  {
   "cell_type": "markdown",
   "id": "c4aa1cd6-b9df-491c-8978-3c8958e51788",
   "metadata": {},
   "source": [
    "## Qestion: what is the RMSE on the test dataset?"
   ]
  },
  {
   "cell_type": "code",
   "execution_count": 189,
   "id": "be16dd32-d68d-48db-9f25-8608167cf2e3",
   "metadata": {},
   "outputs": [
    {
     "data": {
      "text/plain": [
       "'Answer: 608.61'"
      ]
     },
     "execution_count": 189,
     "metadata": {},
     "output_type": "execute_result"
    }
   ],
   "source": [
    "\"Answer: \" + str(rmse)"
   ]
  },
  {
   "cell_type": "code",
   "execution_count": null,
   "id": "7f551164-dbee-43ca-8201-4bb021e1a855",
   "metadata": {},
   "outputs": [],
   "source": []
  },
  {
   "cell_type": "code",
   "execution_count": null,
   "id": "dd7f22d9-6b33-485a-ac0a-a63712aee89f",
   "metadata": {},
   "outputs": [],
   "source": []
  }
 ],
 "metadata": {
  "kernelspec": {
   "display_name": "Python 3 (ipykernel)",
   "language": "python",
   "name": "python3"
  },
  "language_info": {
   "codemirror_mode": {
    "name": "ipython",
    "version": 3
   },
   "file_extension": ".py",
   "mimetype": "text/x-python",
   "name": "python",
   "nbconvert_exporter": "python",
   "pygments_lexer": "ipython3",
   "version": "3.12.1"
  }
 },
 "nbformat": 4,
 "nbformat_minor": 5
}
