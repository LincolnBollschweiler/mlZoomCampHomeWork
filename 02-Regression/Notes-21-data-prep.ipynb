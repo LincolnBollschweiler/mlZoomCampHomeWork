{
 "cells": [
  {
   "cell_type": "markdown",
   "id": "8f7f40b8-6b84-4cbc-ae74-b0420e6c3118",
   "metadata": {},
   "source": [
    "# 2.2 Prepare the Data"
   ]
  },
  {
   "cell_type": "code",
   "execution_count": 75,
   "id": "dd5b42c5-81ca-4197-ac77-307e2ab9a2c2",
   "metadata": {},
   "outputs": [],
   "source": [
    "import pandas as pd"
   ]
  },
  {
   "cell_type": "code",
   "execution_count": 76,
   "id": "1bcbe6b9-d922-41fe-895f-f4e947847881",
   "metadata": {},
   "outputs": [],
   "source": [
    "data = \"https://raw.githubusercontent.com/alexeygrigorev/mlbookcamp-code/refs/heads/master/chapter-02-car-price/data.csv\""
   ]
  },
  {
   "cell_type": "code",
   "execution_count": 77,
   "id": "9a3eca2b-8fd4-4c9d-9574-89887c9d8133",
   "metadata": {},
   "outputs": [
    {
     "name": "stdout",
     "output_type": "stream",
     "text": [
      "--2025-02-07 19:14:56--  https://raw.githubusercontent.com/alexeygrigorev/mlbookcamp-code/refs/heads/master/chapter-02-car-price/data.csv\n",
      "Resolving raw.githubusercontent.com (raw.githubusercontent.com)... 185.199.110.133, 185.199.109.133, 185.199.108.133, ...\n",
      "Connecting to raw.githubusercontent.com (raw.githubusercontent.com)|185.199.110.133|:443... connected.\n",
      "HTTP request sent, awaiting response... 200 OK\n",
      "Length: 1475504 (1.4M) [text/plain]\n",
      "Saving to: ‘data.csv.8’\n",
      "\n",
      "data.csv.8          100%[===================>]   1.41M  --.-KB/s    in 0.03s   \n",
      "\n",
      "2025-02-07 19:14:56 (52.7 MB/s) - ‘data.csv.8’ saved [1475504/1475504]\n",
      "\n"
     ]
    }
   ],
   "source": [
    "!wget $data"
   ]
  },
  {
   "cell_type": "code",
   "execution_count": 78,
   "id": "c4f8fc6c-ac32-4a11-9f39-a2f9b1762466",
   "metadata": {},
   "outputs": [],
   "source": [
    "df = pd.read_csv(data)"
   ]
  },
  {
   "cell_type": "code",
   "execution_count": 79,
   "id": "e661d81e-49ec-43af-be92-e50fe17f6325",
   "metadata": {},
   "outputs": [],
   "source": [
    "# normalize the colomns\n",
    "df.columns = df.columns.str.lower().str.replace(\" \", \"_\")"
   ]
  },
  {
   "cell_type": "code",
   "execution_count": 80,
   "id": "b1a1c285-3f0b-40cf-b331-14e11f921f8f",
   "metadata": {},
   "outputs": [
    {
     "data": {
      "text/html": [
       "<div>\n",
       "<style scoped>\n",
       "    .dataframe tbody tr th:only-of-type {\n",
       "        vertical-align: middle;\n",
       "    }\n",
       "\n",
       "    .dataframe tbody tr th {\n",
       "        vertical-align: top;\n",
       "    }\n",
       "\n",
       "    .dataframe thead th {\n",
       "        text-align: right;\n",
       "    }\n",
       "</style>\n",
       "<table border=\"1\" class=\"dataframe\">\n",
       "  <thead>\n",
       "    <tr style=\"text-align: right;\">\n",
       "      <th></th>\n",
       "      <th>make</th>\n",
       "      <th>model</th>\n",
       "      <th>year</th>\n",
       "      <th>engine_fuel_type</th>\n",
       "      <th>engine_hp</th>\n",
       "      <th>engine_cylinders</th>\n",
       "      <th>transmission_type</th>\n",
       "      <th>driven_wheels</th>\n",
       "      <th>number_of_doors</th>\n",
       "      <th>market_category</th>\n",
       "      <th>vehicle_size</th>\n",
       "      <th>vehicle_style</th>\n",
       "      <th>highway_mpg</th>\n",
       "      <th>city_mpg</th>\n",
       "      <th>popularity</th>\n",
       "      <th>msrp</th>\n",
       "    </tr>\n",
       "  </thead>\n",
       "  <tbody>\n",
       "    <tr>\n",
       "      <th>0</th>\n",
       "      <td>BMW</td>\n",
       "      <td>1 Series M</td>\n",
       "      <td>2011</td>\n",
       "      <td>premium unleaded (required)</td>\n",
       "      <td>335.0</td>\n",
       "      <td>6.0</td>\n",
       "      <td>MANUAL</td>\n",
       "      <td>rear wheel drive</td>\n",
       "      <td>2.0</td>\n",
       "      <td>Factory Tuner,Luxury,High-Performance</td>\n",
       "      <td>Compact</td>\n",
       "      <td>Coupe</td>\n",
       "      <td>26</td>\n",
       "      <td>19</td>\n",
       "      <td>3916</td>\n",
       "      <td>46135</td>\n",
       "    </tr>\n",
       "    <tr>\n",
       "      <th>1</th>\n",
       "      <td>BMW</td>\n",
       "      <td>1 Series</td>\n",
       "      <td>2011</td>\n",
       "      <td>premium unleaded (required)</td>\n",
       "      <td>300.0</td>\n",
       "      <td>6.0</td>\n",
       "      <td>MANUAL</td>\n",
       "      <td>rear wheel drive</td>\n",
       "      <td>2.0</td>\n",
       "      <td>Luxury,Performance</td>\n",
       "      <td>Compact</td>\n",
       "      <td>Convertible</td>\n",
       "      <td>28</td>\n",
       "      <td>19</td>\n",
       "      <td>3916</td>\n",
       "      <td>40650</td>\n",
       "    </tr>\n",
       "    <tr>\n",
       "      <th>2</th>\n",
       "      <td>BMW</td>\n",
       "      <td>1 Series</td>\n",
       "      <td>2011</td>\n",
       "      <td>premium unleaded (required)</td>\n",
       "      <td>300.0</td>\n",
       "      <td>6.0</td>\n",
       "      <td>MANUAL</td>\n",
       "      <td>rear wheel drive</td>\n",
       "      <td>2.0</td>\n",
       "      <td>Luxury,High-Performance</td>\n",
       "      <td>Compact</td>\n",
       "      <td>Coupe</td>\n",
       "      <td>28</td>\n",
       "      <td>20</td>\n",
       "      <td>3916</td>\n",
       "      <td>36350</td>\n",
       "    </tr>\n",
       "  </tbody>\n",
       "</table>\n",
       "</div>"
      ],
      "text/plain": [
       "  make       model  year             engine_fuel_type  engine_hp  \\\n",
       "0  BMW  1 Series M  2011  premium unleaded (required)      335.0   \n",
       "1  BMW    1 Series  2011  premium unleaded (required)      300.0   \n",
       "2  BMW    1 Series  2011  premium unleaded (required)      300.0   \n",
       "\n",
       "   engine_cylinders transmission_type     driven_wheels  number_of_doors  \\\n",
       "0               6.0            MANUAL  rear wheel drive              2.0   \n",
       "1               6.0            MANUAL  rear wheel drive              2.0   \n",
       "2               6.0            MANUAL  rear wheel drive              2.0   \n",
       "\n",
       "                         market_category vehicle_size vehicle_style  \\\n",
       "0  Factory Tuner,Luxury,High-Performance      Compact         Coupe   \n",
       "1                     Luxury,Performance      Compact   Convertible   \n",
       "2                Luxury,High-Performance      Compact         Coupe   \n",
       "\n",
       "   highway_mpg  city_mpg  popularity   msrp  \n",
       "0           26        19        3916  46135  \n",
       "1           28        19        3916  40650  \n",
       "2           28        20        3916  36350  "
      ]
     },
     "execution_count": 80,
     "metadata": {},
     "output_type": "execute_result"
    }
   ],
   "source": [
    "df.head(3)"
   ]
  },
  {
   "cell_type": "code",
   "execution_count": 81,
   "id": "cf331205-966f-4c18-a4c6-055f88a3ec3d",
   "metadata": {},
   "outputs": [
    {
     "data": {
      "text/plain": [
       "['make',\n",
       " 'model',\n",
       " 'engine_fuel_type',\n",
       " 'transmission_type',\n",
       " 'driven_wheels',\n",
       " 'market_category',\n",
       " 'vehicle_size',\n",
       " 'vehicle_style']"
      ]
     },
     "execution_count": 81,
     "metadata": {},
     "output_type": "execute_result"
    }
   ],
   "source": [
    "# for the data, find the string columns, these will be the ones with dtypes of object\n",
    "stringIndeces = list(df.dtypes[df.dtypes  == \"object\"].index)\n",
    "stringIndeces"
   ]
  },
  {
   "cell_type": "code",
   "execution_count": 82,
   "id": "10806b61-1d8f-44fe-ab0d-14d16ce872e8",
   "metadata": {},
   "outputs": [],
   "source": [
    "for col in stringIndeces:\n",
    "    df[col] = df[col].str.lower().str.replace(\" \", \"_\")"
   ]
  },
  {
   "cell_type": "code",
   "execution_count": 83,
   "id": "15ab5269-946c-44fd-80d5-5ebc96a5bf1d",
   "metadata": {},
   "outputs": [
    {
     "data": {
      "text/html": [
       "<div>\n",
       "<style scoped>\n",
       "    .dataframe tbody tr th:only-of-type {\n",
       "        vertical-align: middle;\n",
       "    }\n",
       "\n",
       "    .dataframe tbody tr th {\n",
       "        vertical-align: top;\n",
       "    }\n",
       "\n",
       "    .dataframe thead th {\n",
       "        text-align: right;\n",
       "    }\n",
       "</style>\n",
       "<table border=\"1\" class=\"dataframe\">\n",
       "  <thead>\n",
       "    <tr style=\"text-align: right;\">\n",
       "      <th></th>\n",
       "      <th>make</th>\n",
       "      <th>model</th>\n",
       "      <th>year</th>\n",
       "      <th>engine_fuel_type</th>\n",
       "      <th>engine_hp</th>\n",
       "      <th>engine_cylinders</th>\n",
       "      <th>transmission_type</th>\n",
       "      <th>driven_wheels</th>\n",
       "      <th>number_of_doors</th>\n",
       "      <th>market_category</th>\n",
       "      <th>vehicle_size</th>\n",
       "      <th>vehicle_style</th>\n",
       "      <th>highway_mpg</th>\n",
       "      <th>city_mpg</th>\n",
       "      <th>popularity</th>\n",
       "      <th>msrp</th>\n",
       "    </tr>\n",
       "  </thead>\n",
       "  <tbody>\n",
       "    <tr>\n",
       "      <th>0</th>\n",
       "      <td>bmw</td>\n",
       "      <td>1_series_m</td>\n",
       "      <td>2011</td>\n",
       "      <td>premium_unleaded_(required)</td>\n",
       "      <td>335.0</td>\n",
       "      <td>6.0</td>\n",
       "      <td>manual</td>\n",
       "      <td>rear_wheel_drive</td>\n",
       "      <td>2.0</td>\n",
       "      <td>factory_tuner,luxury,high-performance</td>\n",
       "      <td>compact</td>\n",
       "      <td>coupe</td>\n",
       "      <td>26</td>\n",
       "      <td>19</td>\n",
       "      <td>3916</td>\n",
       "      <td>46135</td>\n",
       "    </tr>\n",
       "    <tr>\n",
       "      <th>1</th>\n",
       "      <td>bmw</td>\n",
       "      <td>1_series</td>\n",
       "      <td>2011</td>\n",
       "      <td>premium_unleaded_(required)</td>\n",
       "      <td>300.0</td>\n",
       "      <td>6.0</td>\n",
       "      <td>manual</td>\n",
       "      <td>rear_wheel_drive</td>\n",
       "      <td>2.0</td>\n",
       "      <td>luxury,performance</td>\n",
       "      <td>compact</td>\n",
       "      <td>convertible</td>\n",
       "      <td>28</td>\n",
       "      <td>19</td>\n",
       "      <td>3916</td>\n",
       "      <td>40650</td>\n",
       "    </tr>\n",
       "    <tr>\n",
       "      <th>2</th>\n",
       "      <td>bmw</td>\n",
       "      <td>1_series</td>\n",
       "      <td>2011</td>\n",
       "      <td>premium_unleaded_(required)</td>\n",
       "      <td>300.0</td>\n",
       "      <td>6.0</td>\n",
       "      <td>manual</td>\n",
       "      <td>rear_wheel_drive</td>\n",
       "      <td>2.0</td>\n",
       "      <td>luxury,high-performance</td>\n",
       "      <td>compact</td>\n",
       "      <td>coupe</td>\n",
       "      <td>28</td>\n",
       "      <td>20</td>\n",
       "      <td>3916</td>\n",
       "      <td>36350</td>\n",
       "    </tr>\n",
       "    <tr>\n",
       "      <th>3</th>\n",
       "      <td>bmw</td>\n",
       "      <td>1_series</td>\n",
       "      <td>2011</td>\n",
       "      <td>premium_unleaded_(required)</td>\n",
       "      <td>230.0</td>\n",
       "      <td>6.0</td>\n",
       "      <td>manual</td>\n",
       "      <td>rear_wheel_drive</td>\n",
       "      <td>2.0</td>\n",
       "      <td>luxury,performance</td>\n",
       "      <td>compact</td>\n",
       "      <td>coupe</td>\n",
       "      <td>28</td>\n",
       "      <td>18</td>\n",
       "      <td>3916</td>\n",
       "      <td>29450</td>\n",
       "    </tr>\n",
       "    <tr>\n",
       "      <th>4</th>\n",
       "      <td>bmw</td>\n",
       "      <td>1_series</td>\n",
       "      <td>2011</td>\n",
       "      <td>premium_unleaded_(required)</td>\n",
       "      <td>230.0</td>\n",
       "      <td>6.0</td>\n",
       "      <td>manual</td>\n",
       "      <td>rear_wheel_drive</td>\n",
       "      <td>2.0</td>\n",
       "      <td>luxury</td>\n",
       "      <td>compact</td>\n",
       "      <td>convertible</td>\n",
       "      <td>28</td>\n",
       "      <td>18</td>\n",
       "      <td>3916</td>\n",
       "      <td>34500</td>\n",
       "    </tr>\n",
       "  </tbody>\n",
       "</table>\n",
       "</div>"
      ],
      "text/plain": [
       "  make       model  year             engine_fuel_type  engine_hp  \\\n",
       "0  bmw  1_series_m  2011  premium_unleaded_(required)      335.0   \n",
       "1  bmw    1_series  2011  premium_unleaded_(required)      300.0   \n",
       "2  bmw    1_series  2011  premium_unleaded_(required)      300.0   \n",
       "3  bmw    1_series  2011  premium_unleaded_(required)      230.0   \n",
       "4  bmw    1_series  2011  premium_unleaded_(required)      230.0   \n",
       "\n",
       "   engine_cylinders transmission_type     driven_wheels  number_of_doors  \\\n",
       "0               6.0            manual  rear_wheel_drive              2.0   \n",
       "1               6.0            manual  rear_wheel_drive              2.0   \n",
       "2               6.0            manual  rear_wheel_drive              2.0   \n",
       "3               6.0            manual  rear_wheel_drive              2.0   \n",
       "4               6.0            manual  rear_wheel_drive              2.0   \n",
       "\n",
       "                         market_category vehicle_size vehicle_style  \\\n",
       "0  factory_tuner,luxury,high-performance      compact         coupe   \n",
       "1                     luxury,performance      compact   convertible   \n",
       "2                luxury,high-performance      compact         coupe   \n",
       "3                     luxury,performance      compact         coupe   \n",
       "4                                 luxury      compact   convertible   \n",
       "\n",
       "   highway_mpg  city_mpg  popularity   msrp  \n",
       "0           26        19        3916  46135  \n",
       "1           28        19        3916  40650  \n",
       "2           28        20        3916  36350  \n",
       "3           28        18        3916  29450  \n",
       "4           28        18        3916  34500  "
      ]
     },
     "execution_count": 83,
     "metadata": {},
     "output_type": "execute_result"
    }
   ],
   "source": [
    "\n",
    "df.head(5)"
   ]
  },
  {
   "cell_type": "markdown",
   "id": "fc54357a-68b3-4a87-9c1e-5fa2a2c71b82",
   "metadata": {},
   "source": [
    "# 2.3 Exploratory Data Analysis"
   ]
  },
  {
   "cell_type": "markdown",
   "id": "55319e58-25e2-4e9f-9a85-4effe2df0f8d",
   "metadata": {},
   "source": [
    "## examine the data"
   ]
  },
  {
   "cell_type": "code",
   "execution_count": 84,
   "id": "f342cf24-228a-4eae-81be-330adae93622",
   "metadata": {},
   "outputs": [
    {
     "name": "stdout",
     "output_type": "stream",
     "text": [
      "make\n",
      "['bmw' 'audi' 'fiat' 'mercedes-benz' 'chrysler']\n",
      "48\n",
      "\n",
      "model\n",
      "['1_series_m' '1_series' '100' '124_spider' '190-class']\n",
      "914\n",
      "\n",
      "year\n",
      "[2011 2012 2013 1992 1993]\n",
      "28\n",
      "\n",
      "engine_fuel_type\n",
      "['premium_unleaded_(required)' 'regular_unleaded'\n",
      " 'premium_unleaded_(recommended)' 'flex-fuel_(unleaded/e85)' 'diesel']\n",
      "10\n",
      "\n",
      "engine_hp\n",
      "[335. 300. 230. 320. 172.]\n",
      "356\n",
      "\n",
      "engine_cylinders\n",
      "[ 6.  4.  5.  8. 12.]\n",
      "9\n",
      "\n",
      "transmission_type\n",
      "['manual' 'automatic' 'automated_manual' 'direct_drive' 'unknown']\n",
      "5\n",
      "\n",
      "driven_wheels\n",
      "['rear_wheel_drive' 'front_wheel_drive' 'all_wheel_drive'\n",
      " 'four_wheel_drive']\n",
      "4\n",
      "\n",
      "number_of_doors\n",
      "[ 2.  4.  3. nan]\n",
      "3\n",
      "\n",
      "market_category\n",
      "['factory_tuner,luxury,high-performance' 'luxury,performance'\n",
      " 'luxury,high-performance' 'luxury' 'performance']\n",
      "71\n",
      "\n",
      "vehicle_size\n",
      "['compact' 'midsize' 'large']\n",
      "3\n",
      "\n",
      "vehicle_style\n",
      "['coupe' 'convertible' 'sedan' 'wagon' '4dr_hatchback']\n",
      "16\n",
      "\n",
      "highway_mpg\n",
      "[26 28 27 25 24]\n",
      "59\n",
      "\n",
      "city_mpg\n",
      "[19 20 18 17 16]\n",
      "69\n",
      "\n",
      "popularity\n",
      "[3916 3105  819  617 1013]\n",
      "48\n",
      "\n",
      "msrp\n",
      "[46135 40650 36350 29450 34500]\n",
      "6049\n",
      "\n"
     ]
    }
   ],
   "source": [
    "for col in df.columns:\n",
    "    print(col)\n",
    "    print(df[col].unique()[:5])\n",
    "    print(df[col].nunique())\n",
    "    print()\n",
    "    "
   ]
  },
  {
   "cell_type": "code",
   "execution_count": null,
   "id": "b01c9788-879f-4808-ab72-f9c34f0fd649",
   "metadata": {},
   "outputs": [],
   "source": []
  },
  {
   "cell_type": "markdown",
   "id": "543ebc29-f182-43e9-be19-34b79dcab82d",
   "metadata": {},
   "source": [
    "## Distribution of price"
   ]
  },
  {
   "cell_type": "code",
   "execution_count": 85,
   "id": "34c40d5a-c8a4-4bbd-bdac-63405ceec3a3",
   "metadata": {},
   "outputs": [],
   "source": [
    "import matplotlib.pyplot as plt\n",
    "import seaborn as sns\n",
    "\n",
    "%matplotlib inline"
   ]
  },
  {
   "cell_type": "code",
   "execution_count": 86,
   "id": "a0ccbbde-0f85-4bba-820d-e08605a1c5cd",
   "metadata": {},
   "outputs": [
    {
     "data": {
      "text/plain": [
       "<Axes: xlabel='msrp', ylabel='Count'>"
      ]
     },
     "execution_count": 86,
     "metadata": {},
     "output_type": "execute_result"
    },
    {
     "data": {
      "image/png": "[encoded data removed]",
      "text/plain": [
       "<Figure size 640x480 with 1 Axes>"
      ]
     },
     "metadata": {},
     "output_type": "display_data"
    }
   ],
   "source": [
    "# see dist of prices in histogram\n",
    "sns.histplot(df.msrp[df.msrp < 100_000], bins=100)"
   ]
  },
  {
   "cell_type": "code",
   "execution_count": 87,
   "id": "c1713c5e-8456-416c-9902-70e6a74bfaae",
   "metadata": {},
   "outputs": [
    {
     "data": {
      "text/plain": [
       "<Axes: xlabel='msrp', ylabel='Count'>"
      ]
     },
     "execution_count": 87,
     "metadata": {},
     "output_type": "execute_result"
    },
    {
     "data": {
      "image/png": "[encoded data removed]",
      "text/plain": [
       "<Figure size 640x480 with 1 Axes>"
      ]
     },
     "metadata": {},
     "output_type": "display_data"
    }
   ],
   "source": [
    "sns.histplot(df.msrp[(df.msrp < 100_000) & (df.msrp > 4000)], bins=100)"
   ]
  },
  {
   "cell_type": "code",
   "execution_count": 88,
   "id": "cddd2a3f-f830-44d7-bb56-8264629b5ec6",
   "metadata": {},
   "outputs": [
    {
     "data": {
      "text/plain": [
       "array([ 0.        ,  0.69314718,  2.39789527,  4.61512052,  6.90875478,\n",
       "        9.21044037, 11.51293546])"
      ]
     },
     "execution_count": 88,
     "metadata": {},
     "output_type": "execute_result"
    }
   ],
   "source": [
    "# the long-tail distribution is not conducive to ML so we need to convert it to logarithmic scale\n",
    "# log1p adds 1 to each value we want to log so we don't get a log(0) = undefined\n",
    "np.log1p([0, 1, 10, 100, 1000, 10_000, 100_000])"
   ]
  },
  {
   "cell_type": "code",
   "execution_count": 89,
   "id": "7c0877fc-08a0-4e72-bf4a-3b801b9323d6",
   "metadata": {},
   "outputs": [
    {
     "data": {
      "text/plain": [
       "0        10.739349\n",
       "1        10.612779\n",
       "2        10.500977\n",
       "3        10.290483\n",
       "4        10.448744\n",
       "           ...    \n",
       "11909    10.739024\n",
       "11910    10.945018\n",
       "11911    10.832122\n",
       "11912    10.838031\n",
       "11913    10.274913\n",
       "Name: msrp, Length: 11914, dtype: float64"
      ]
     },
     "execution_count": 89,
     "metadata": {},
     "output_type": "execute_result"
    }
   ],
   "source": [
    "price_logs = np.log1p(df.msrp)\n",
    "price_logs"
   ]
  },
  {
   "cell_type": "code",
   "execution_count": 90,
   "id": "703494c8-40ab-469c-b60f-f69aaf9ddbcf",
   "metadata": {},
   "outputs": [
    {
     "data": {
      "text/plain": [
       "<Axes: xlabel='msrp', ylabel='Count'>"
      ]
     },
     "execution_count": 90,
     "metadata": {},
     "output_type": "execute_result"
    },
    {
     "data": {
      "image/png": "[encoded data removed]",
      "text/plain": [
       "<Figure size 640x480 with 1 Axes>"
      ]
     },
     "metadata": {},
     "output_type": "display_data"
    }
   ],
   "source": [
    "sns.histplot(price_logs, bins=100)"
   ]
  },
  {
   "cell_type": "markdown",
   "id": "92af9494-b0dc-4e8a-81aa-9a93e9b7d2be",
   "metadata": {},
   "source": [
    "## Missing values"
   ]
  },
  {
   "cell_type": "code",
   "execution_count": 91,
   "id": "d582dd49-3294-4cc7-a2f2-f6b146cfa18b",
   "metadata": {},
   "outputs": [
    {
     "data": {
      "text/plain": [
       "make                    0\n",
       "model                   0\n",
       "year                    0\n",
       "engine_fuel_type        3\n",
       "engine_hp              69\n",
       "engine_cylinders       30\n",
       "transmission_type       0\n",
       "driven_wheels           0\n",
       "number_of_doors         6\n",
       "market_category      3742\n",
       "vehicle_size            0\n",
       "vehicle_style           0\n",
       "highway_mpg             0\n",
       "city_mpg                0\n",
       "popularity              0\n",
       "msrp                    0\n",
       "dtype: int64"
      ]
     },
     "execution_count": 91,
     "metadata": {},
     "output_type": "execute_result"
    }
   ],
   "source": [
    "df.isnull().sum()"
   ]
  },
  {
   "cell_type": "markdown",
   "id": "bf7f4adb-9c0b-4615-83cb-111158d5817d",
   "metadata": {},
   "source": [
    "# 2.4 Setting up the validation framework"
   ]
  },
  {
   "cell_type": "code",
   "execution_count": 92,
   "id": "5e96ce3f-0898-4db7-9369-87cb3efbd410",
   "metadata": {},
   "outputs": [],
   "source": [
    "# splitting for train, validation, and test\n",
    "twenty = int(len(df) * .2)\n",
    "testSize = len(df) - twenty * 2"
   ]
  },
  {
   "cell_type": "code",
   "execution_count": 93,
   "id": "37f9768d-fa5d-48e7-8a7a-6659591b3952",
   "metadata": {},
   "outputs": [],
   "source": [
    "# shuffle the data so each bin we create has a random set\n",
    "# here we get a shuffled array of indeces\n",
    "idx = np.arange(len(df))\n",
    "# np.random.seed(2) # if we want to get same shuffle every time\n",
    "np.random.shuffle(idx)"
   ]
  },
  {
   "cell_type": "code",
   "execution_count": 94,
   "id": "4c580a2f-bd27-40ec-92a8-cf1b03498220",
   "metadata": {},
   "outputs": [],
   "source": [
    "# now use the shuffled indeces to get the data sets\n",
    "trainData = df.iloc[idx[:testSize]]\n",
    "valData = df.iloc[idx[testSize:testSize + twenty]]\n",
    "testData = df.iloc[idx[testSize+twenty:]]\n",
    "\n"
   ]
  },
  {
   "cell_type": "code",
   "execution_count": 95,
   "id": "5f274f54-14f8-4144-ba3b-0e9478192f84",
   "metadata": {},
   "outputs": [],
   "source": [
    "trainData = trainData.reset_index(drop=True)\n",
    "valData = valData.reset_index(drop=True)\n",
    "testData = testData.reset_index(drop=True)"
   ]
  },
  {
   "cell_type": "code",
   "execution_count": 96,
   "id": "13c17778-53ab-4ef5-9de6-b5086aa4954b",
   "metadata": {},
   "outputs": [
    {
     "data": {
      "text/plain": [
       "(7150, 2382, 2382)"
      ]
     },
     "execution_count": 96,
     "metadata": {},
     "output_type": "execute_result"
    }
   ],
   "source": [
    "len(trainData), len(valData), len(testData)"
   ]
  },
  {
   "cell_type": "code",
   "execution_count": 97,
   "id": "7b642bf7-502d-4fab-9885-4e06e1b9e03b",
   "metadata": {},
   "outputs": [],
   "source": [
    "# get the y output\n",
    "y_train = np.log1p(trainData.msrp.values)\n",
    "y_val = np.log1p(valData.msrp.values)\n",
    "y_test = np.log1p(testData.msrp.values)"
   ]
  },
  {
   "cell_type": "code",
   "execution_count": 98,
   "id": "bc5b0a30-cebc-46d9-9295-3e901c30b8d6",
   "metadata": {},
   "outputs": [],
   "source": [
    "# !!!!! important !!!!!\n",
    "# remove the y from the data, otherwise the model would look like it was perfect\n",
    "del trainData[\"msrp\"]\n",
    "del testData[\"msrp\"]\n",
    "del valData[\"msrp\"]"
   ]
  },
  {
   "cell_type": "markdown",
   "id": "dbb74619-1ca7-405d-a740-9f101556688f",
   "metadata": {},
   "source": [
    "# 2.5 Linear Regression Primer"
   ]
  },
  {
   "cell_type": "code",
   "execution_count": 99,
   "id": "87ab6a61-029e-4192-8060-6d179eaa70e8",
   "metadata": {},
   "outputs": [],
   "source": [
    "# linear regression is one model used for ML"
   ]
  },
  {
   "cell_type": "code",
   "execution_count": 100,
   "id": "66056ded-22e8-4f32-922d-1fc5c91de669",
   "metadata": {},
   "outputs": [],
   "source": [
    "w0 = 7.17 # initial weight, aka bias \n",
    "w = [.01,.04,.002] # weights\n",
    "def linear_regression(xi):\n",
    "    n = len(xi)\n",
    "    pred = w0\n",
    "    for j in range(n):\n",
    "        pred += w[j] * xi[j]\n",
    "    return np.expm1(pred) # because we took the log of msrp to make the curve more normal\n",
    "    "
   ]
  },
  {
   "cell_type": "code",
   "execution_count": 101,
   "id": "4daff621-8491-4528-ab25-f4ff7e94c3aa",
   "metadata": {},
   "outputs": [
    {
     "data": {
      "text/plain": [
       "np.float64(222347.2221101062)"
      ]
     },
     "execution_count": 101,
     "metadata": {},
     "output_type": "execute_result"
    }
   ],
   "source": [
    "linear_regression([453,11,86]) # these are three values of one row the instructor chose for demo"
   ]
  },
  {
   "cell_type": "markdown",
   "id": "05fb8b6a-81fc-4091-bcca-bebdf412de1d",
   "metadata": {},
   "source": [
    "# Linear Regression Vector Form"
   ]
  },
  {
   "cell_type": "code",
   "execution_count": 102,
   "id": "497b75f6-9158-4326-b247-907dc179f917",
   "metadata": {},
   "outputs": [],
   "source": [
    "# note that the pred += w[j] * xi[j] was simply a dot product and out linear_regression was w0 + the dot product\n",
    "w_new = [w0] + w # array concatonization"
   ]
  },
  {
   "cell_type": "code",
   "execution_count": 103,
   "id": "ed6fddc0-9188-45df-9d9d-67d68316708d",
   "metadata": {},
   "outputs": [],
   "source": [
    "def vect_lin_reg(xi):\n",
    "    xi = ([1] + xi)\n",
    "    return np.expm1(np.array(xi).dot(w_new))\n",
    "    "
   ]
  },
  {
   "cell_type": "code",
   "execution_count": 104,
   "id": "70b76f6c-0a9e-4338-88b1-f0a8e9eed0a2",
   "metadata": {},
   "outputs": [
    {
     "data": {
      "text/plain": [
       "np.float64(222347.2221101062)"
      ]
     },
     "execution_count": 104,
     "metadata": {},
     "output_type": "execute_result"
    }
   ],
   "source": [
    "vect_lin_reg([453,11,86])"
   ]
  },
  {
   "cell_type": "code",
   "execution_count": 105,
   "id": "a30084b9-a327-4c1b-92d3-1112e27b84e7",
   "metadata": {},
   "outputs": [
    {
     "data": {
      "text/plain": [
       "array([[   1,  148,   24, 1385],\n",
       "       [   1,  132,   25, 2031],\n",
       "       [   1,  453,   11,   86]])"
      ]
     },
     "execution_count": 105,
     "metadata": {},
     "output_type": "execute_result"
    }
   ],
   "source": [
    "x1 = [1,148,24,1385]\n",
    "x2 = [1,132,25,2031]\n",
    "x3 = [1, 453,11,86]\n",
    "X = np.array([x1,x2,x3])\n",
    "X"
   ]
  },
  {
   "cell_type": "code",
   "execution_count": 106,
   "id": "703172e8-0fa3-4f93-94e7-7f40b9d93ba4",
   "metadata": {},
   "outputs": [
    {
     "data": {
      "text/plain": [
       "array([12.38 , 13.552, 12.312])"
      ]
     },
     "execution_count": 106,
     "metadata": {},
     "output_type": "execute_result"
    }
   ],
   "source": [
    "X.dot(w_new)"
   ]
  },
  {
   "cell_type": "markdown",
   "id": "49e297b2-37fb-4f2c-9a21-5f4fb86c8d35",
   "metadata": {},
   "source": [
    "# 2.7 Training the lin reg model ... setting the weights"
   ]
  },
  {
   "cell_type": "markdown",
   "id": "6bb7d5f1-0c93-4a6a-be8c-169fdd5f1a99",
   "metadata": {},
   "source": [
    "Xw = y<br/>\n",
    "X<sup>-1</sup>Xw = X<sup>-1</sup>y<br/>\n",
    "and since X<sup>-1</sup>X = I then<br/>\n",
    "w = X<sup>-1</sup>y"
   ]
  },
  {
   "cell_type": "markdown",
   "id": "6bed54d2-daa0-47fa-a974-02fd6069cb43",
   "metadata": {},
   "source": [
    "But our X matrix is almost never square so we cannot take it's inverse straight-away"
   ]
  },
  {
   "cell_type": "markdown",
   "id": "b6288c92-a8d8-4436-85dc-a29ab92b48bc",
   "metadata": {},
   "source": [
    "So we get the dot product of X<sup>T</sup>X<br/>\n",
    "And we dot product the other side by X<sup>T</sup> as well (the transpose of X)"
   ]
  },
  {
   "cell_type": "markdown",
   "id": "34491798-fe0a-4893-a5e4-0f36f00838ad",
   "metadata": {},
   "source": [
    "Our new equation is now<br/>\n",
    "w = (X<sup>T</sup>X)<sup>-1</sup>X<sup>T</sup>y"
   ]
  },
  {
   "cell_type": "code",
   "execution_count": 107,
   "id": "0a761fc7-9221-4c1f-8cb9-fe3c375e7f7b",
   "metadata": {},
   "outputs": [],
   "source": [
    "def train_lin_reg(X, y):\n",
    "    #ones = np.ones(X.shape[0])\n",
    "    #X = np.column_stack([ones, X])\n",
    "    XT = X.T\n",
    "    XTX = XT.dot(X) # called the Gram Matrix\n",
    "    XTX_inv = np.linalg.inv(XTX)\n",
    "    w_full = (XTX_inv.dot(XT)).dot(y)\n",
    "    return w_full[0], w_full[1:]\n",
    "    "
   ]
  },
  {
   "cell_type": "code",
   "execution_count": 108,
   "id": "6134374f-c49a-4ad8-9712-9b213a9da203",
   "metadata": {},
   "outputs": [
    {
     "data": {
      "text/plain": [
       "(np.float64(-0.03490280151367187),\n",
       " array([ 1.25600308e-04, -1.49985981e-03,  5.22662662e-05]))"
      ]
     },
     "execution_count": 108,
     "metadata": {},
     "output_type": "execute_result"
    }
   ],
   "source": [
    "# add the 1's to X (for the bias term)\n",
    "# ones = np.ones(X.shape[0])\n",
    "# np.column_stack([ones, X])\n",
    "train_lin_reg(X, w)"
   ]
  },
  {
   "cell_type": "markdown",
   "id": "cab9a5b8-f0ac-4923-9232-49adf795f9de",
   "metadata": {},
   "source": [
    "# 2.8 Car Price Baseline Model"
   ]
  },
  {
   "cell_type": "code",
   "execution_count": 109,
   "id": "f8967ee4-df24-4990-b389-88f1cbcb9647",
   "metadata": {},
   "outputs": [
    {
     "data": {
      "text/plain": [
       "make                  object\n",
       "model                 object\n",
       "year                   int64\n",
       "engine_fuel_type      object\n",
       "engine_hp            float64\n",
       "engine_cylinders     float64\n",
       "transmission_type     object\n",
       "driven_wheels         object\n",
       "number_of_doors      float64\n",
       "market_category       object\n",
       "vehicle_size          object\n",
       "vehicle_style         object\n",
       "highway_mpg            int64\n",
       "city_mpg               int64\n",
       "popularity             int64\n",
       "dtype: object"
      ]
     },
     "execution_count": 109,
     "metadata": {},
     "output_type": "execute_result"
    }
   ],
   "source": [
    "trainData.dtypes"
   ]
  },
  {
   "cell_type": "code",
   "execution_count": 110,
   "id": "6ef71cb2-d4b1-4857-9d2e-c5f2c2ecfeff",
   "metadata": {},
   "outputs": [
    {
     "data": {
      "text/plain": [
       "Index(['make', 'model', 'year', 'engine_fuel_type', 'engine_hp',\n",
       "       'engine_cylinders', 'transmission_type', 'driven_wheels',\n",
       "       'number_of_doors', 'market_category', 'vehicle_size', 'vehicle_style',\n",
       "       'highway_mpg', 'city_mpg', 'popularity'],\n",
       "      dtype='object')"
      ]
     },
     "execution_count": 110,
     "metadata": {},
     "output_type": "execute_result"
    }
   ],
   "source": [
    "trainData.columns"
   ]
  },
  {
   "cell_type": "code",
   "execution_count": 111,
   "id": "46011ee0-32d8-42fc-b579-56a752c19c5f",
   "metadata": {},
   "outputs": [],
   "source": [
    "# get the only the data that the model needs\n",
    "base = ['engine_hp', 'engine_cylinders', 'highway_mpg', 'city_mpg', 'popularity']"
   ]
  },
  {
   "cell_type": "code",
   "execution_count": 112,
   "id": "f2000375-124e-44ba-8a55-f4a9bc9d413b",
   "metadata": {},
   "outputs": [
    {
     "data": {
      "text/plain": [
       "engine_hp           47\n",
       "engine_cylinders    18\n",
       "highway_mpg          0\n",
       "city_mpg             0\n",
       "popularity           0\n",
       "dtype: int64"
      ]
     },
     "execution_count": 112,
     "metadata": {},
     "output_type": "execute_result"
    }
   ],
   "source": [
    "# check for missing values and replace with 0. Often using 0 doesn't make sense and maybe we use the min or mode, etc\n",
    "trainData[base].isnull().sum()"
   ]
  },
  {
   "cell_type": "code",
   "execution_count": 113,
   "id": "54180cec-073d-4dfa-a87f-159d64428c80",
   "metadata": {},
   "outputs": [
    {
     "data": {
      "text/plain": [
       "array([[ 140.,    8.,   22.,   15., 1624.],\n",
       "       [ 270.,    6.,   32.,   22., 2009.],\n",
       "       [ 173.,    4.,   26.,   19., 1851.],\n",
       "       ...,\n",
       "       [ 162.,    4.,   22.,   17.,  870.],\n",
       "       [ 138.,    4.,   35.,   26., 1385.],\n",
       "       [ 160.,    4.,   35.,   26.,  819.]], shape=(7150, 5))"
      ]
     },
     "execution_count": 113,
     "metadata": {},
     "output_type": "execute_result"
    }
   ],
   "source": [
    "X_train = trainData[base].fillna(0).values\n",
    "X_train"
   ]
  },
  {
   "cell_type": "code",
   "execution_count": 114,
   "id": "348ac509-5534-4ac8-96ce-68ff006d655d",
   "metadata": {},
   "outputs": [],
   "source": [
    "def train_lin_reg(X, y):\n",
    "    ones = np.ones(X.shape[0])\n",
    "    X = np.column_stack([ones, X])\n",
    "    XT = X.T\n",
    "    XTX = XT.dot(X) # called the Gram Matrix\n",
    "    XTX_inv = np.linalg.inv(XTX)\n",
    "    w_full = (XTX_inv.dot(XT)).dot(y)\n",
    "    return w_full[0], w_full[1:]"
   ]
  },
  {
   "cell_type": "code",
   "execution_count": 115,
   "id": "f409acd2-40c6-43d2-b9a4-5d5036592a7e",
   "metadata": {},
   "outputs": [],
   "source": [
    "w0, w = train_lin_reg(X_train, y_train)"
   ]
  },
  {
   "cell_type": "code",
   "execution_count": 116,
   "id": "10318645-ad80-4e60-bcd9-c7341dc92c60",
   "metadata": {},
   "outputs": [
    {
     "data": {
      "text/plain": [
       "np.float64(7.8542289446687565)"
      ]
     },
     "execution_count": 116,
     "metadata": {},
     "output_type": "execute_result"
    }
   ],
   "source": [
    "w0"
   ]
  },
  {
   "cell_type": "code",
   "execution_count": 117,
   "id": "514a5a10-48aa-4f5c-9517-d6545d4e6411",
   "metadata": {},
   "outputs": [
    {
     "data": {
      "text/plain": [
       "array([ 9.27357209e-03, -1.30404702e-01,  1.54240534e-02,  1.46480877e-02,\n",
       "       -8.06843122e-06])"
      ]
     },
     "execution_count": 117,
     "metadata": {},
     "output_type": "execute_result"
    }
   ],
   "source": [
    "w"
   ]
  },
  {
   "cell_type": "code",
   "execution_count": 118,
   "id": "8d11ea85-c35f-4850-bd6e-2acf15e41953",
   "metadata": {},
   "outputs": [
    {
     "data": {
      "text/plain": [
       "array([ 8.65523878, 10.37528336,  9.6013425 , ...,  9.41625595,\n",
       "        9.52188046,  9.73046578], shape=(7150,))"
      ]
     },
     "execution_count": 118,
     "metadata": {},
     "output_type": "execute_result"
    }
   ],
   "source": [
    "y_pred = w0 + X_train.dot(w)\n",
    "y_pred"
   ]
  },
  {
   "cell_type": "code",
   "execution_count": 119,
   "id": "46b8ef1b-12c2-411b-897c-613e4054ae3e",
   "metadata": {},
   "outputs": [
    {
     "data": {
      "text/plain": [
       "<Axes: ylabel='Count'>"
      ]
     },
     "execution_count": 119,
     "metadata": {},
     "output_type": "execute_result"
    },
    {
     "data": {
      "image/png": "[encoded data removed]",
      "text/plain": [
       "<Figure size 640x480 with 1 Axes>"
      ]
     },
     "metadata": {},
     "output_type": "display_data"
    }
   ],
   "source": [
    "#plot the predictions to compare with actual\n",
    "sns.histplot(y_pred, color=\"orange\", alpha=0.5, bins=70)\n",
    "sns.histplot(y_train, color=\"steelblue\", alpha=0.5, bins=70)"
   ]
  },
  {
   "cell_type": "markdown",
   "id": "a40df770-cc22-4499-8e84-11e3be58d303",
   "metadata": {},
   "source": [
    "# 2.9 RMSE root mean square eval"
   ]
  },
  {
   "cell_type": "code",
   "execution_count": 120,
   "id": "d8d2ff28-e064-439d-874c-5b3e4cf61f5d",
   "metadata": {},
   "outputs": [],
   "source": [
    "# we see from the above graph that our predictions are off and we need a way to quantify the difference\n",
    "# we want the average of the differnces, squared\n",
    "# here is my attempt\n",
    "def RMSE(pred, actual):\n",
    "    return np.sqrt(np.mean((pred - actual)**2))\n"
   ]
  },
  {
   "cell_type": "code",
   "execution_count": 121,
   "id": "7f743c91-5aaa-4f1b-a582-bf163b08cfd7",
   "metadata": {},
   "outputs": [
    {
     "data": {
      "text/plain": [
       "np.float64(0.7587761054194941)"
      ]
     },
     "execution_count": 121,
     "metadata": {},
     "output_type": "execute_result"
    }
   ],
   "source": [
    "RMSE(y_pred, y_train)"
   ]
  },
  {
   "cell_type": "markdown",
   "id": "fab5fddf-ee99-4d86-8ae5-881993d4622c",
   "metadata": {},
   "source": [
    "# 2.10 Validate the Model"
   ]
  },
  {
   "cell_type": "code",
   "execution_count": 122,
   "id": "9fad20e1-aa32-4a2b-a1e6-304aee015309",
   "metadata": {},
   "outputs": [],
   "source": [
    "# break up the prepare data into a function\n",
    "def prepare_X(df):\n",
    "    df_num = df[base].fillna(0)\n",
    "    return df_num.values"
   ]
  },
  {
   "cell_type": "code",
   "execution_count": 123,
   "id": "e3567c21-6cdf-4dac-bae0-e4823643643d",
   "metadata": {},
   "outputs": [
    {
     "data": {
      "text/plain": [
       "np.float64(0.75086064666864)"
      ]
     },
     "execution_count": 123,
     "metadata": {},
     "output_type": "execute_result"
    }
   ],
   "source": [
    "X_train = prepare_X(trainData)\n",
    "w0, w = train_lin_reg(X_train, y_train)\n",
    "\n",
    "X_val = prepare_X(valData)\n",
    "y_pred = w0 + X_val.dot(w)\n",
    "\n",
    "RMSE(y_val, y_pred)"
   ]
  },
  {
   "cell_type": "markdown",
   "id": "9b525245-62ad-4395-b057-8f001efbc6a4",
   "metadata": {},
   "source": [
    "# 2.11 Simple feature engineering (improve the model)"
   ]
  },
  {
   "cell_type": "code",
   "execution_count": 124,
   "id": "834f9e03-6c78-4ac8-a50f-9a681436a4fe",
   "metadata": {},
   "outputs": [
    {
     "data": {
      "text/html": [
       "<div>\n",
       "<style scoped>\n",
       "    .dataframe tbody tr th:only-of-type {\n",
       "        vertical-align: middle;\n",
       "    }\n",
       "\n",
       "    .dataframe tbody tr th {\n",
       "        vertical-align: top;\n",
       "    }\n",
       "\n",
       "    .dataframe thead th {\n",
       "        text-align: right;\n",
       "    }\n",
       "</style>\n",
       "<table border=\"1\" class=\"dataframe\">\n",
       "  <thead>\n",
       "    <tr style=\"text-align: right;\">\n",
       "      <th></th>\n",
       "      <th>make</th>\n",
       "      <th>model</th>\n",
       "      <th>year</th>\n",
       "      <th>engine_fuel_type</th>\n",
       "      <th>engine_hp</th>\n",
       "      <th>engine_cylinders</th>\n",
       "      <th>transmission_type</th>\n",
       "      <th>driven_wheels</th>\n",
       "      <th>number_of_doors</th>\n",
       "      <th>market_category</th>\n",
       "      <th>vehicle_size</th>\n",
       "      <th>vehicle_style</th>\n",
       "      <th>highway_mpg</th>\n",
       "      <th>city_mpg</th>\n",
       "      <th>popularity</th>\n",
       "    </tr>\n",
       "  </thead>\n",
       "  <tbody>\n",
       "    <tr>\n",
       "      <th>0</th>\n",
       "      <td>cadillac</td>\n",
       "      <td>brougham</td>\n",
       "      <td>1990</td>\n",
       "      <td>regular_unleaded</td>\n",
       "      <td>140.0</td>\n",
       "      <td>8.0</td>\n",
       "      <td>automatic</td>\n",
       "      <td>rear_wheel_drive</td>\n",
       "      <td>4.0</td>\n",
       "      <td>luxury</td>\n",
       "      <td>large</td>\n",
       "      <td>sedan</td>\n",
       "      <td>22</td>\n",
       "      <td>15</td>\n",
       "      <td>1624</td>\n",
       "    </tr>\n",
       "    <tr>\n",
       "      <th>1</th>\n",
       "      <td>nissan</td>\n",
       "      <td>altima</td>\n",
       "      <td>2016</td>\n",
       "      <td>regular_unleaded</td>\n",
       "      <td>270.0</td>\n",
       "      <td>6.0</td>\n",
       "      <td>automatic</td>\n",
       "      <td>front_wheel_drive</td>\n",
       "      <td>4.0</td>\n",
       "      <td>performance</td>\n",
       "      <td>midsize</td>\n",
       "      <td>sedan</td>\n",
       "      <td>32</td>\n",
       "      <td>22</td>\n",
       "      <td>2009</td>\n",
       "    </tr>\n",
       "    <tr>\n",
       "      <th>2</th>\n",
       "      <td>dodge</td>\n",
       "      <td>journey</td>\n",
       "      <td>2016</td>\n",
       "      <td>regular_unleaded</td>\n",
       "      <td>173.0</td>\n",
       "      <td>4.0</td>\n",
       "      <td>automatic</td>\n",
       "      <td>front_wheel_drive</td>\n",
       "      <td>4.0</td>\n",
       "      <td>crossover</td>\n",
       "      <td>midsize</td>\n",
       "      <td>4dr_suv</td>\n",
       "      <td>26</td>\n",
       "      <td>19</td>\n",
       "      <td>1851</td>\n",
       "    </tr>\n",
       "    <tr>\n",
       "      <th>3</th>\n",
       "      <td>hummer</td>\n",
       "      <td>h3</td>\n",
       "      <td>2008</td>\n",
       "      <td>regular_unleaded</td>\n",
       "      <td>242.0</td>\n",
       "      <td>5.0</td>\n",
       "      <td>manual</td>\n",
       "      <td>four_wheel_drive</td>\n",
       "      <td>4.0</td>\n",
       "      <td>luxury</td>\n",
       "      <td>midsize</td>\n",
       "      <td>4dr_suv</td>\n",
       "      <td>18</td>\n",
       "      <td>13</td>\n",
       "      <td>130</td>\n",
       "    </tr>\n",
       "    <tr>\n",
       "      <th>4</th>\n",
       "      <td>mercedes-benz</td>\n",
       "      <td>s-class</td>\n",
       "      <td>2016</td>\n",
       "      <td>premium_unleaded_(required)</td>\n",
       "      <td>621.0</td>\n",
       "      <td>12.0</td>\n",
       "      <td>automatic</td>\n",
       "      <td>rear_wheel_drive</td>\n",
       "      <td>4.0</td>\n",
       "      <td>factory_tuner,luxury,high-performance</td>\n",
       "      <td>large</td>\n",
       "      <td>sedan</td>\n",
       "      <td>20</td>\n",
       "      <td>13</td>\n",
       "      <td>617</td>\n",
       "    </tr>\n",
       "    <tr>\n",
       "      <th>...</th>\n",
       "      <td>...</td>\n",
       "      <td>...</td>\n",
       "      <td>...</td>\n",
       "      <td>...</td>\n",
       "      <td>...</td>\n",
       "      <td>...</td>\n",
       "      <td>...</td>\n",
       "      <td>...</td>\n",
       "      <td>...</td>\n",
       "      <td>...</td>\n",
       "      <td>...</td>\n",
       "      <td>...</td>\n",
       "      <td>...</td>\n",
       "      <td>...</td>\n",
       "      <td>...</td>\n",
       "    </tr>\n",
       "    <tr>\n",
       "      <th>7145</th>\n",
       "      <td>chevrolet</td>\n",
       "      <td>captiva_sport</td>\n",
       "      <td>2013</td>\n",
       "      <td>flex-fuel_(unleaded/e85)</td>\n",
       "      <td>180.0</td>\n",
       "      <td>4.0</td>\n",
       "      <td>automatic</td>\n",
       "      <td>front_wheel_drive</td>\n",
       "      <td>4.0</td>\n",
       "      <td>crossover,flex_fuel</td>\n",
       "      <td>midsize</td>\n",
       "      <td>4dr_suv</td>\n",
       "      <td>28</td>\n",
       "      <td>20</td>\n",
       "      <td>1385</td>\n",
       "    </tr>\n",
       "    <tr>\n",
       "      <th>7146</th>\n",
       "      <td>audi</td>\n",
       "      <td>a6</td>\n",
       "      <td>2015</td>\n",
       "      <td>diesel</td>\n",
       "      <td>240.0</td>\n",
       "      <td>6.0</td>\n",
       "      <td>automatic</td>\n",
       "      <td>all_wheel_drive</td>\n",
       "      <td>4.0</td>\n",
       "      <td>diesel,luxury</td>\n",
       "      <td>midsize</td>\n",
       "      <td>sedan</td>\n",
       "      <td>38</td>\n",
       "      <td>24</td>\n",
       "      <td>3105</td>\n",
       "    </tr>\n",
       "    <tr>\n",
       "      <th>7147</th>\n",
       "      <td>volvo</td>\n",
       "      <td>940</td>\n",
       "      <td>1995</td>\n",
       "      <td>regular_unleaded</td>\n",
       "      <td>162.0</td>\n",
       "      <td>4.0</td>\n",
       "      <td>automatic</td>\n",
       "      <td>rear_wheel_drive</td>\n",
       "      <td>4.0</td>\n",
       "      <td>luxury</td>\n",
       "      <td>midsize</td>\n",
       "      <td>wagon</td>\n",
       "      <td>22</td>\n",
       "      <td>17</td>\n",
       "      <td>870</td>\n",
       "    </tr>\n",
       "    <tr>\n",
       "      <th>7148</th>\n",
       "      <td>chevrolet</td>\n",
       "      <td>sonic</td>\n",
       "      <td>2015</td>\n",
       "      <td>regular_unleaded</td>\n",
       "      <td>138.0</td>\n",
       "      <td>4.0</td>\n",
       "      <td>manual</td>\n",
       "      <td>front_wheel_drive</td>\n",
       "      <td>4.0</td>\n",
       "      <td>hatchback</td>\n",
       "      <td>compact</td>\n",
       "      <td>4dr_hatchback</td>\n",
       "      <td>35</td>\n",
       "      <td>26</td>\n",
       "      <td>1385</td>\n",
       "    </tr>\n",
       "    <tr>\n",
       "      <th>7149</th>\n",
       "      <td>fiat</td>\n",
       "      <td>124_spider</td>\n",
       "      <td>2017</td>\n",
       "      <td>premium_unleaded_(recommended)</td>\n",
       "      <td>160.0</td>\n",
       "      <td>4.0</td>\n",
       "      <td>manual</td>\n",
       "      <td>rear_wheel_drive</td>\n",
       "      <td>2.0</td>\n",
       "      <td>performance</td>\n",
       "      <td>compact</td>\n",
       "      <td>convertible</td>\n",
       "      <td>35</td>\n",
       "      <td>26</td>\n",
       "      <td>819</td>\n",
       "    </tr>\n",
       "  </tbody>\n",
       "</table>\n",
       "<p>7150 rows × 15 columns</p>\n",
       "</div>"
      ],
      "text/plain": [
       "               make          model  year                engine_fuel_type  \\\n",
       "0          cadillac       brougham  1990                regular_unleaded   \n",
       "1            nissan         altima  2016                regular_unleaded   \n",
       "2             dodge        journey  2016                regular_unleaded   \n",
       "3            hummer             h3  2008                regular_unleaded   \n",
       "4     mercedes-benz        s-class  2016     premium_unleaded_(required)   \n",
       "...             ...            ...   ...                             ...   \n",
       "7145      chevrolet  captiva_sport  2013        flex-fuel_(unleaded/e85)   \n",
       "7146           audi             a6  2015                          diesel   \n",
       "7147          volvo            940  1995                regular_unleaded   \n",
       "7148      chevrolet          sonic  2015                regular_unleaded   \n",
       "7149           fiat     124_spider  2017  premium_unleaded_(recommended)   \n",
       "\n",
       "      engine_hp  engine_cylinders transmission_type      driven_wheels  \\\n",
       "0         140.0               8.0         automatic   rear_wheel_drive   \n",
       "1         270.0               6.0         automatic  front_wheel_drive   \n",
       "2         173.0               4.0         automatic  front_wheel_drive   \n",
       "3         242.0               5.0            manual   four_wheel_drive   \n",
       "4         621.0              12.0         automatic   rear_wheel_drive   \n",
       "...         ...               ...               ...                ...   \n",
       "7145      180.0               4.0         automatic  front_wheel_drive   \n",
       "7146      240.0               6.0         automatic    all_wheel_drive   \n",
       "7147      162.0               4.0         automatic   rear_wheel_drive   \n",
       "7148      138.0               4.0            manual  front_wheel_drive   \n",
       "7149      160.0               4.0            manual   rear_wheel_drive   \n",
       "\n",
       "      number_of_doors                        market_category vehicle_size  \\\n",
       "0                 4.0                                 luxury        large   \n",
       "1                 4.0                            performance      midsize   \n",
       "2                 4.0                              crossover      midsize   \n",
       "3                 4.0                                 luxury      midsize   \n",
       "4                 4.0  factory_tuner,luxury,high-performance        large   \n",
       "...               ...                                    ...          ...   \n",
       "7145              4.0                    crossover,flex_fuel      midsize   \n",
       "7146              4.0                          diesel,luxury      midsize   \n",
       "7147              4.0                                 luxury      midsize   \n",
       "7148              4.0                              hatchback      compact   \n",
       "7149              2.0                            performance      compact   \n",
       "\n",
       "      vehicle_style  highway_mpg  city_mpg  popularity  \n",
       "0             sedan           22        15        1624  \n",
       "1             sedan           32        22        2009  \n",
       "2           4dr_suv           26        19        1851  \n",
       "3           4dr_suv           18        13         130  \n",
       "4             sedan           20        13         617  \n",
       "...             ...          ...       ...         ...  \n",
       "7145        4dr_suv           28        20        1385  \n",
       "7146          sedan           38        24        3105  \n",
       "7147          wagon           22        17         870  \n",
       "7148  4dr_hatchback           35        26        1385  \n",
       "7149    convertible           35        26         819  \n",
       "\n",
       "[7150 rows x 15 columns]"
      ]
     },
     "execution_count": 124,
     "metadata": {},
     "output_type": "execute_result"
    }
   ],
   "source": [
    "trainData"
   ]
  },
  {
   "cell_type": "code",
   "execution_count": 125,
   "id": "7cb4d373-cd9b-4983-93e9-688672d06366",
   "metadata": {},
   "outputs": [
    {
     "data": {
      "text/plain": [
       "np.int64(2017)"
      ]
     },
     "execution_count": 125,
     "metadata": {},
     "output_type": "execute_result"
    }
   ],
   "source": [
    "# we see we left out an important feature, year\n",
    "trainData.year.max() # we'll use this as our current year since the dataset is old (2017)"
   ]
  },
  {
   "cell_type": "code",
   "execution_count": 126,
   "id": "91832d72-60a9-4c60-be32-26c332b42758",
   "metadata": {},
   "outputs": [],
   "source": [
    "def prepare_X(df):\n",
    "    df = df.copy()\n",
    "    df['age'] = 2017 - df.year\n",
    "    features = base + ['age']\n",
    "    df_num = df[features].fillna(0)    \n",
    "    return df_num.values"
   ]
  },
  {
   "cell_type": "code",
   "execution_count": 127,
   "id": "b2b703b4-03ee-48ce-9dc2-ed41a9a74c52",
   "metadata": {},
   "outputs": [
    {
     "data": {
      "text/plain": [
       "np.float64(0.5153080624136686)"
      ]
     },
     "execution_count": 127,
     "metadata": {},
     "output_type": "execute_result"
    }
   ],
   "source": [
    "X_train = prepare_X(trainData)\n",
    "w0, w = train_lin_reg(X_train, y_train)\n",
    "\n",
    "X_val = prepare_X(valData)\n",
    "y_pred = w0 + X_val.dot(w)\n",
    "\n",
    "RMSE(y_val, y_pred)"
   ]
  },
  {
   "cell_type": "code",
   "execution_count": 128,
   "id": "d856c72c-9b42-4e1b-8153-f4c4a740bca6",
   "metadata": {},
   "outputs": [
    {
     "data": {
      "text/plain": [
       "<Axes: ylabel='Count'>"
      ]
     },
     "execution_count": 128,
     "metadata": {},
     "output_type": "execute_result"
    },
    {
     "data": {
      "image/png": "[encoded data removed]",
      "text/plain": [
       "<Figure size 640x480 with 1 Axes>"
      ]
     },
     "metadata": {},
     "output_type": "display_data"
    }
   ],
   "source": [
    "# a lower rmse is better\n",
    "# now plot the differences again to see the improvement visually\n",
    "sns.histplot(y_pred, color=\"orange\", alpha=0.5, bins=70)\n",
    "sns.histplot(y_val, color=\"steelblue\", alpha=0.5, bins=70)"
   ]
  },
  {
   "cell_type": "markdown",
   "id": "bc019d23-9700-4646-9239-f89adcaa3056",
   "metadata": {},
   "source": [
    "# 2.12 Categorical Variables"
   ]
  },
  {
   "cell_type": "code",
   "execution_count": 129,
   "id": "27ee63e4-f750-4550-929d-5369aee9593e",
   "metadata": {},
   "outputs": [],
   "source": [
    "def prepare_X(df):\n",
    "    df = df.copy()\n",
    "    df['age'] = 2017 - df.year\n",
    "    features = base.copy()\n",
    "    features.append('age')\n",
    "\n",
    "    for v in [2,3,4]:\n",
    "        df['num_doors_%s' %v] = (df.number_of_doors == v).astype(\"int\")\n",
    "        features.append('num_doors_%s' %v)\n",
    "                        \n",
    "    df_num = df[features].fillna(0)    \n",
    "    return df_num.values"
   ]
  },
  {
   "cell_type": "code",
   "execution_count": 130,
   "id": "e6e06d85-e3a9-460e-8b5d-9c1f9f9f7840",
   "metadata": {},
   "outputs": [
    {
     "data": {
      "text/plain": [
       "np.float64(0.5129209063470238)"
      ]
     },
     "execution_count": 130,
     "metadata": {},
     "output_type": "execute_result"
    }
   ],
   "source": [
    "# try it out\n",
    "X_train = prepare_X(trainData)\n",
    "w0, w = train_lin_reg(X_train, y_train)\n",
    "\n",
    "X_val = prepare_X(valData)\n",
    "y_pred = w0 + X_val.dot(w)\n",
    "\n",
    "RMSE(y_val, y_pred)"
   ]
  },
  {
   "cell_type": "code",
   "execution_count": 131,
   "id": "fe8bd48f-bd60-42be-8519-4a68c6ba7878",
   "metadata": {},
   "outputs": [
    {
     "data": {
      "text/plain": [
       "make\n",
       "chevrolet     1123\n",
       "ford           881\n",
       "volkswagen     809\n",
       "toyota         746\n",
       "dodge          626\n",
       "nissan         558\n",
       "gmc            515\n",
       "honda          449\n",
       "mazda          423\n",
       "cadillac       397\n",
       "Name: count, dtype: int64"
      ]
     },
     "execution_count": 131,
     "metadata": {},
     "output_type": "execute_result"
    }
   ],
   "source": [
    "# didn't help that much. Let's look at make\n",
    "df.make.value_counts().head(10)"
   ]
  },
  {
   "cell_type": "code",
   "execution_count": 132,
   "id": "024644b0-278b-4bc4-9111-9bee39217f25",
   "metadata": {},
   "outputs": [
    {
     "data": {
      "text/plain": [
       "['chevrolet',\n",
       " 'ford',\n",
       " 'volkswagen',\n",
       " 'toyota',\n",
       " 'dodge',\n",
       " 'nissan',\n",
       " 'gmc',\n",
       " 'honda',\n",
       " 'mazda',\n",
       " 'cadillac']"
      ]
     },
     "execution_count": 132,
     "metadata": {},
     "output_type": "execute_result"
    }
   ],
   "source": [
    "list(df.make.value_counts().head(10).index)"
   ]
  },
  {
   "cell_type": "code",
   "execution_count": 133,
   "id": "71a35dcc-0ab1-439d-b322-829b85759c14",
   "metadata": {},
   "outputs": [
    {
     "data": {
      "text/plain": [
       "['chevrolet',\n",
       " 'ford',\n",
       " 'volkswagen',\n",
       " 'toyota',\n",
       " 'dodge',\n",
       " 'nissan',\n",
       " 'gmc',\n",
       " 'honda',\n",
       " 'mazda',\n",
       " 'cadillac']"
      ]
     },
     "execution_count": 133,
     "metadata": {},
     "output_type": "execute_result"
    }
   ],
   "source": [
    "makes = list(df.make.value_counts().head(10).index)\n",
    "makes"
   ]
  },
  {
   "cell_type": "code",
   "execution_count": 134,
   "id": "7cddadab-5e3d-47f8-80f7-bee9ac4c22ad",
   "metadata": {},
   "outputs": [],
   "source": [
    "def prepare_X(df):\n",
    "    df = df.copy()\n",
    "    df['age'] = 2017 - df.year\n",
    "    features = base.copy()\n",
    "    features.append('age')\n",
    "\n",
    "    for v in [2,3,4]:\n",
    "        df['num_doors_%s' % v] = (df.number_of_doors == v).astype(\"int\")\n",
    "        features.append('num_doors_%s' % v)\n",
    "                        \n",
    "    for v in makes:\n",
    "        df['%s' % v] = (df.make == v).astype(\"int\")\n",
    "        features.append('%s' % v)\n",
    "                        \n",
    "    df_num = df[features].fillna(0)    \n",
    "    return df_num.values"
   ]
  },
  {
   "cell_type": "code",
   "execution_count": 135,
   "id": "cb4078a1-6148-48a6-ab1a-f28fada2a853",
   "metadata": {},
   "outputs": [
    {
     "data": {
      "text/plain": [
       "np.float64(0.49745585221425875)"
      ]
     },
     "execution_count": 135,
     "metadata": {},
     "output_type": "execute_result"
    }
   ],
   "source": [
    "# try it out\n",
    "X_train = prepare_X(trainData)\n",
    "w0, w = train_lin_reg(X_train, y_train)\n",
    "\n",
    "X_val = prepare_X(valData)\n",
    "y_pred = w0 + X_val.dot(w)\n",
    "\n",
    "RMSE(y_val, y_pred)"
   ]
  },
  {
   "cell_type": "code",
   "execution_count": 136,
   "id": "d631f811-ea09-4eb0-b40a-cb31dcd37001",
   "metadata": {},
   "outputs": [
    {
     "data": {
      "text/plain": [
       "array([[140.,   8.,  22., ...,   0.,   0.,   1.],\n",
       "       [270.,   6.,  32., ...,   0.,   0.,   0.],\n",
       "       [173.,   4.,  26., ...,   0.,   0.,   0.],\n",
       "       ...,\n",
       "       [162.,   4.,  22., ...,   0.,   0.,   0.],\n",
       "       [138.,   4.,  35., ...,   0.,   0.,   0.],\n",
       "       [160.,   4.,  35., ...,   0.,   0.,   0.]], shape=(7150, 19))"
      ]
     },
     "execution_count": 136,
     "metadata": {},
     "output_type": "execute_result"
    }
   ],
   "source": [
    "prepare_X(trainData)"
   ]
  },
  {
   "cell_type": "code",
   "execution_count": 137,
   "id": "422d407e-7883-4129-aea2-28a8d4583860",
   "metadata": {},
   "outputs": [
    {
     "data": {
      "text/plain": [
       "make                  object\n",
       "model                 object\n",
       "year                   int64\n",
       "engine_fuel_type      object\n",
       "engine_hp            float64\n",
       "engine_cylinders     float64\n",
       "transmission_type     object\n",
       "driven_wheels         object\n",
       "number_of_doors      float64\n",
       "market_category       object\n",
       "vehicle_size          object\n",
       "vehicle_style         object\n",
       "highway_mpg            int64\n",
       "city_mpg               int64\n",
       "popularity             int64\n",
       "dtype: object"
      ]
     },
     "execution_count": 137,
     "metadata": {},
     "output_type": "execute_result"
    }
   ],
   "source": [
    "trainData.dtypes"
   ]
  },
  {
   "cell_type": "code",
   "execution_count": 138,
   "id": "4067bc85-c87f-4d47-855c-9c60ea0f8741",
   "metadata": {},
   "outputs": [],
   "source": [
    "category = ['make', 'engine_fuel_type', 'transmission_type', 'driven_wheels', 'market_category', 'vehicle_size', 'vehicle_style']\n",
    "categories = {}"
   ]
  },
  {
   "cell_type": "code",
   "execution_count": 174,
   "id": "a3e3d0be-ed5c-411d-94ad-92f6d3410f38",
   "metadata": {},
   "outputs": [],
   "source": [
    "for c in category:\n",
    "    categories[c] = list(df[c].value_counts().head(10).index)"
   ]
  },
  {
   "cell_type": "code",
   "execution_count": 175,
   "id": "8cc38726-07a4-4f18-bf19-286f00ff2142",
   "metadata": {},
   "outputs": [
    {
     "data": {
      "text/plain": [
       "{'make': ['chevrolet',\n",
       "  'ford',\n",
       "  'volkswagen',\n",
       "  'toyota',\n",
       "  'dodge',\n",
       "  'nissan',\n",
       "  'gmc',\n",
       "  'honda',\n",
       "  'mazda',\n",
       "  'cadillac'],\n",
       " 'engine_fuel_type': ['regular_unleaded',\n",
       "  'premium_unleaded_(required)',\n",
       "  'premium_unleaded_(recommended)',\n",
       "  'flex-fuel_(unleaded/e85)',\n",
       "  'diesel',\n",
       "  'electric',\n",
       "  'flex-fuel_(premium_unleaded_required/e85)',\n",
       "  'flex-fuel_(premium_unleaded_recommended/e85)',\n",
       "  'flex-fuel_(unleaded/natural_gas)',\n",
       "  'natural_gas'],\n",
       " 'transmission_type': ['automatic',\n",
       "  'manual',\n",
       "  'automated_manual',\n",
       "  'direct_drive',\n",
       "  'unknown'],\n",
       " 'driven_wheels': ['front_wheel_drive',\n",
       "  'rear_wheel_drive',\n",
       "  'all_wheel_drive',\n",
       "  'four_wheel_drive'],\n",
       " 'market_category': ['crossover',\n",
       "  'flex_fuel',\n",
       "  'luxury',\n",
       "  'luxury,performance',\n",
       "  'hatchback',\n",
       "  'performance',\n",
       "  'crossover,luxury',\n",
       "  'luxury,high-performance',\n",
       "  'exotic,high-performance',\n",
       "  'hatchback,performance'],\n",
       " 'vehicle_size': ['compact', 'midsize', 'large'],\n",
       " 'vehicle_style': ['sedan',\n",
       "  '4dr_suv',\n",
       "  'coupe',\n",
       "  'convertible',\n",
       "  '4dr_hatchback',\n",
       "  'crew_cab_pickup',\n",
       "  'extended_cab_pickup',\n",
       "  'wagon',\n",
       "  '2dr_hatchback',\n",
       "  'passenger_minivan']}"
      ]
     },
     "execution_count": 175,
     "metadata": {},
     "output_type": "execute_result"
    }
   ],
   "source": [
    "categories"
   ]
  },
  {
   "cell_type": "code",
   "execution_count": 176,
   "id": "efed9e3e-c1b7-40d8-b989-a17355357f1f",
   "metadata": {},
   "outputs": [],
   "source": [
    "def prepare_X(df):\n",
    "    df = df.copy()\n",
    "    df['age'] = 2017 - df.year\n",
    "    features = base.copy()\n",
    "    features.append('age')\n",
    "\n",
    "    for v in [2,3,4]:\n",
    "        df['num_doors_%d' % v] = (df.number_of_doors == v).astype(\"int\")\n",
    "        features.append('num_doors_%d' % v)\n",
    "\n",
    "    for cat, values in categories.items():\n",
    "        for value in values:\n",
    "            df['%s_%s' % (cat, value)] = (df[cat] == value).astype(\"int\")\n",
    "            features.append('%s_%s' % (cat, value))\n",
    "                        \n",
    "    df_num = df[features].fillna(0)    \n",
    "    return df_num.values"
   ]
  },
  {
   "cell_type": "code",
   "execution_count": 177,
   "id": "53c08b1b-7c74-4a01-84eb-0f8ff90a78d0",
   "metadata": {},
   "outputs": [
    {
     "data": {
      "text/plain": [
       "np.float64(66.6670092866562)"
      ]
     },
     "execution_count": 177,
     "metadata": {},
     "output_type": "execute_result"
    }
   ],
   "source": [
    "# try it out\n",
    "X_train = prepare_X(trainData)\n",
    "w0, w = train_lin_reg(X_train, y_train)\n",
    "\n",
    "X_val = prepare_X(valData)\n",
    "y_pred = w0 + X_val.dot(w)\n",
    "\n",
    "RMSE(y_val, y_pred)"
   ]
  },
  {
   "cell_type": "code",
   "execution_count": 178,
   "id": "5f2af57a-1b7d-428a-8c72-68e087e4726a",
   "metadata": {},
   "outputs": [
    {
     "data": {
      "text/plain": [
       "np.float64(5831088481928964.0)"
      ]
     },
     "execution_count": 178,
     "metadata": {},
     "output_type": "execute_result"
    }
   ],
   "source": [
    "w0"
   ]
  },
  {
   "cell_type": "code",
   "execution_count": 179,
   "id": "cc12d001-9664-44c4-9dd3-8077ab975628",
   "metadata": {},
   "outputs": [],
   "source": [
    "# woah! Much worse. And we see the w0 (and some w's) are very large numbers"
   ]
  },
  {
   "cell_type": "markdown",
   "id": "642b91e7-ec7e-4922-9f69-343e80258036",
   "metadata": {},
   "source": [
    "# 2.13 Regularization"
   ]
  },
  {
   "cell_type": "code",
   "execution_count": 180,
   "id": "f30efac8-e881-471c-8cab-d09eb4f107c9",
   "metadata": {},
   "outputs": [],
   "source": [
    "# the problem was with the Gram Matrix. Sometime the transpose will not work. Thus usually happens when there are duplicate values in some columns.\n",
    "# Here is an example\n",
    "Z = [\n",
    "    [4,4,4],\n",
    "    [3,5,5],\n",
    "    [5,1,1],\n",
    "    [5,4,4],\n",
    "    [7,5,5],\n",
    "    [4,5,5]\n",
    "]"
   ]
  },
  {
   "cell_type": "code",
   "execution_count": 181,
   "id": "bdd467b9-4685-409c-8b41-c37568ebaba7",
   "metadata": {},
   "outputs": [
    {
     "data": {
      "text/plain": [
       "array([[4, 4, 4],\n",
       "       [3, 5, 5],\n",
       "       [5, 1, 1],\n",
       "       [5, 4, 4],\n",
       "       [7, 5, 5],\n",
       "       [4, 5, 5]])"
      ]
     },
     "execution_count": 181,
     "metadata": {},
     "output_type": "execute_result"
    }
   ],
   "source": [
    "Z = np.array(Z)\n",
    "Z"
   ]
  },
  {
   "cell_type": "code",
   "execution_count": 182,
   "id": "40c47567-9937-4565-892f-b89eb820f2b9",
   "metadata": {},
   "outputs": [
    {
     "data": {
      "text/plain": [
       "array([[140, 111, 111],\n",
       "       [111, 108, 108],\n",
       "       [111, 108, 108]])"
      ]
     },
     "execution_count": 182,
     "metadata": {},
     "output_type": "execute_result"
    }
   ],
   "source": [
    "# note the duplicates in columns 1 and 2\n",
    "# compute the Gram Matrix\n",
    "GM = Z.T.dot(Z)\n",
    "GM"
   ]
  },
  {
   "cell_type": "code",
   "execution_count": 183,
   "id": "24206814-1bff-4476-99ef-4ad342303486",
   "metadata": {},
   "outputs": [
    {
     "ename": "LinAlgError",
     "evalue": "Singular matrix",
     "output_type": "error",
     "traceback": [
      "\u001b[0;31m---------------------------------------------------------------------------\u001b[0m",
      "\u001b[0;31mLinAlgError\u001b[0m                               Traceback (most recent call last)",
      "Cell \u001b[0;32mIn[183], line 2\u001b[0m\n\u001b[1;32m      1\u001b[0m \u001b[38;5;66;03m# since at least one columne (in this case 1 and 2) are linear combinations of other columns we cannot take the inverse, it does not exist\u001b[39;00m\n\u001b[0;32m----> 2\u001b[0m \u001b[43mnp\u001b[49m\u001b[38;5;241;43m.\u001b[39;49m\u001b[43mlinalg\u001b[49m\u001b[38;5;241;43m.\u001b[39;49m\u001b[43minv\u001b[49m\u001b[43m(\u001b[49m\u001b[43mGM\u001b[49m\u001b[43m)\u001b[49m\n",
      "File \u001b[0;32m~/.local/lib/python3.12/site-packages/numpy/linalg/_linalg.py:609\u001b[0m, in \u001b[0;36minv\u001b[0;34m(a)\u001b[0m\n\u001b[1;32m    606\u001b[0m signature \u001b[38;5;241m=\u001b[39m \u001b[38;5;124m'\u001b[39m\u001b[38;5;124mD->D\u001b[39m\u001b[38;5;124m'\u001b[39m \u001b[38;5;28;01mif\u001b[39;00m isComplexType(t) \u001b[38;5;28;01melse\u001b[39;00m \u001b[38;5;124m'\u001b[39m\u001b[38;5;124md->d\u001b[39m\u001b[38;5;124m'\u001b[39m\n\u001b[1;32m    607\u001b[0m \u001b[38;5;28;01mwith\u001b[39;00m errstate(call\u001b[38;5;241m=\u001b[39m_raise_linalgerror_singular, invalid\u001b[38;5;241m=\u001b[39m\u001b[38;5;124m'\u001b[39m\u001b[38;5;124mcall\u001b[39m\u001b[38;5;124m'\u001b[39m,\n\u001b[1;32m    608\u001b[0m               over\u001b[38;5;241m=\u001b[39m\u001b[38;5;124m'\u001b[39m\u001b[38;5;124mignore\u001b[39m\u001b[38;5;124m'\u001b[39m, divide\u001b[38;5;241m=\u001b[39m\u001b[38;5;124m'\u001b[39m\u001b[38;5;124mignore\u001b[39m\u001b[38;5;124m'\u001b[39m, under\u001b[38;5;241m=\u001b[39m\u001b[38;5;124m'\u001b[39m\u001b[38;5;124mignore\u001b[39m\u001b[38;5;124m'\u001b[39m):\n\u001b[0;32m--> 609\u001b[0m     ainv \u001b[38;5;241m=\u001b[39m \u001b[43m_umath_linalg\u001b[49m\u001b[38;5;241;43m.\u001b[39;49m\u001b[43minv\u001b[49m\u001b[43m(\u001b[49m\u001b[43ma\u001b[49m\u001b[43m,\u001b[49m\u001b[43m \u001b[49m\u001b[43msignature\u001b[49m\u001b[38;5;241;43m=\u001b[39;49m\u001b[43msignature\u001b[49m\u001b[43m)\u001b[49m\n\u001b[1;32m    610\u001b[0m \u001b[38;5;28;01mreturn\u001b[39;00m wrap(ainv\u001b[38;5;241m.\u001b[39mastype(result_t, copy\u001b[38;5;241m=\u001b[39m\u001b[38;5;28;01mFalse\u001b[39;00m))\n",
      "File \u001b[0;32m~/.local/lib/python3.12/site-packages/numpy/linalg/_linalg.py:104\u001b[0m, in \u001b[0;36m_raise_linalgerror_singular\u001b[0;34m(err, flag)\u001b[0m\n\u001b[1;32m    103\u001b[0m \u001b[38;5;28;01mdef\u001b[39;00m \u001b[38;5;21m_raise_linalgerror_singular\u001b[39m(err, flag):\n\u001b[0;32m--> 104\u001b[0m     \u001b[38;5;28;01mraise\u001b[39;00m LinAlgError(\u001b[38;5;124m\"\u001b[39m\u001b[38;5;124mSingular matrix\u001b[39m\u001b[38;5;124m\"\u001b[39m)\n",
      "\u001b[0;31mLinAlgError\u001b[0m: Singular matrix"
     ]
    }
   ],
   "source": [
    "# since at least one columne (in this case 1 and 2) are linear combinations of other columns we cannot take the inverse, it does not exist\n",
    "np.linalg.inv(GM)"
   ]
  },
  {
   "cell_type": "code",
   "execution_count": 184,
   "id": "d59e006c-5c12-4ff3-9b3e-1ae067050a78",
   "metadata": {},
   "outputs": [
    {
     "data": {
      "text/plain": [
       "array([[140.0001, 111.    , 111.    ],\n",
       "       [111.    , 108.0001, 108.    ],\n",
       "       [111.    , 108.    , 108.0001]])"
      ]
     },
     "execution_count": 184,
     "metadata": {},
     "output_type": "execute_result"
    }
   ],
   "source": [
    "# to get rid of the problem we can add a small value to the diagonal of the Gram Matrix\n",
    "GM = GM + 0.0001 * np.eye(3)\n",
    "GM"
   ]
  },
  {
   "cell_type": "code",
   "execution_count": 185,
   "id": "64b8397b-d034-4a9d-ac78-fed5abfec521",
   "metadata": {},
   "outputs": [
    {
     "data": {
      "text/plain": [
       "array([[ 3.85849815e-02, -1.98283841e-02, -1.98283841e-02],\n",
       "       [-1.98283841e-02,  5.00001250e+03, -4.99998750e+03],\n",
       "       [-1.98283841e-02, -4.99998750e+03,  5.00001250e+03]])"
      ]
     },
     "execution_count": 185,
     "metadata": {},
     "output_type": "execute_result"
    }
   ],
   "source": [
    "np.linalg.inv(GM)"
   ]
  },
  {
   "cell_type": "code",
   "execution_count": 186,
   "id": "a50f803b-faaa-4efa-88fb-02ccab320c70",
   "metadata": {},
   "outputs": [],
   "source": [
    "# so let's regularize our function\n",
    "def train_lin_regression_reg(X, y, r=0.001):\n",
    "    ones = np.ones(X.shape[0])\n",
    "    X = np.column_stack([ones, X])\n",
    "    XT = X.T\n",
    "    XTX = XT.dot(X) # called the Gram Matrix\n",
    "    # add our regularization variable to the diagonal\n",
    "    XTX = XTX + r * np.eye(XTX.shape[0])\n",
    "    XTX_inv = np.linalg.inv(XTX)\n",
    "    w_full = (XTX_inv.dot(XT)).dot(y)\n",
    "    return w_full[0], w_full[1:]"
   ]
  },
  {
   "cell_type": "code",
   "execution_count": 187,
   "id": "0d9e1a01-b5f1-4808-bce3-71660a69b272",
   "metadata": {},
   "outputs": [
    {
     "data": {
      "text/plain": [
       "np.float64(0.444381696968804)"
      ]
     },
     "execution_count": 187,
     "metadata": {},
     "output_type": "execute_result"
    }
   ],
   "source": [
    "# try it out\n",
    "X_train = prepare_X(trainData)\n",
    "w0, w = train_lin_regression_reg(X_train, y_train)\n",
    "\n",
    "X_val = prepare_X(valData)\n",
    "y_pred = w0 + X_val.dot(w)\n",
    "\n",
    "RMSE(y_val, y_pred)"
   ]
  },
  {
   "cell_type": "markdown",
   "id": "1d3dec2f-0462-449e-ac4e-301ad700eac4",
   "metadata": {},
   "source": [
    "# 2.14 Tuning the modes (finding best Regularization value)"
   ]
  },
  {
   "cell_type": "code",
   "execution_count": 188,
   "id": "6077eb77-92f7-48e4-a6c7-affd247bac93",
   "metadata": {},
   "outputs": [
    {
     "name": "stdout",
     "output_type": "stream",
     "text": [
      "0 5831088481928964.0 66.6670092866562\n",
      "1e-05 6.053447221441612 0.44438109591035524\n",
      "0.0001 6.053308069417931 0.444381139858585\n",
      "0.001 6.050750330907576 0.444381696968804\n",
      "0.01 6.026057775179965 0.4443874443530035\n",
      "0.1 5.841020596095054 0.4444607440595536\n",
      "1 5.203784150206203 0.44556235886520634\n",
      "10 4.166441449389553 0.45733079466653\n"
     ]
    }
   ],
   "source": [
    "for r in [0, 0.00001, 0.0001, 0.001, 0.01, 0.1, 1, 10]:\n",
    "    X_train = prepare_X(trainData)\n",
    "    w0, w = train_lin_regression_reg(X_train, y_train, r)\n",
    "    X_val = prepare_X(valData)\n",
    "    y_pred = w0 + X_val.dot(w)\n",
    "    score = RMSE(y_val, y_pred)\n",
    "    print(r, w0, score)"
   ]
  },
  {
   "cell_type": "code",
   "execution_count": 189,
   "id": "d14c9c5b-963c-41be-99c7-0dca044e5d42",
   "metadata": {},
   "outputs": [],
   "source": [
    "# for the current random set of data this one appears best\n",
    "# 0.01 6.297750595972611 0.46480887485278427"
   ]
  },
  {
   "cell_type": "markdown",
   "id": "0e5f91a7-8aab-4bdb-84a5-9ad8d1dd5ea1",
   "metadata": {},
   "source": [
    "# 2.15 Train the final model"
   ]
  },
  {
   "cell_type": "code",
   "execution_count": 190,
   "id": "15ab45cf-247d-47b3-ac3f-efcda5859e76",
   "metadata": {},
   "outputs": [],
   "source": [
    "# we use the full train + val set for final training\n",
    "fullTrainData = pd.concat([trainData, valData])\n",
    "fullTrainData = fullTrainData.reset_index(drop=True)"
   ]
  },
  {
   "cell_type": "code",
   "execution_count": 191,
   "id": "37d716b0-4f1d-4e0b-8edf-3f57b3f88354",
   "metadata": {},
   "outputs": [],
   "source": [
    "X_fullTrain = prepare_X(fullTrainData)"
   ]
  },
  {
   "cell_type": "code",
   "execution_count": 192,
   "id": "d29635e6-68c4-4ca0-8945-287d2b67e64b",
   "metadata": {},
   "outputs": [],
   "source": [
    "y_fullTrain = np.concatenate([y_train, y_val])"
   ]
  },
  {
   "cell_type": "code",
   "execution_count": 193,
   "id": "01a1aa3a-00c5-41e2-b7c6-b54045b4ca76",
   "metadata": {},
   "outputs": [],
   "source": [
    "w0, w = train_lin_regression_reg(X_fullTrain, y_fullTrain, 0.01)"
   ]
  },
  {
   "cell_type": "code",
   "execution_count": 194,
   "id": "5d29335a-353b-4191-bb7d-d94cd59596f0",
   "metadata": {},
   "outputs": [
    {
     "data": {
      "text/plain": [
       "(np.float64(6.08676859775198),\n",
       " array([ 1.12042559e-03,  1.05945009e-01, -7.97731995e-03, -8.53461667e-03,\n",
       "        -3.97078070e-05, -9.91582078e-02, -4.76821530e-01, -6.07635010e-01,\n",
       "        -3.02081209e-01, -4.53368137e-02,  1.29031229e-01, -1.24487128e-02,\n",
       "        -1.05021869e-01, -1.18841898e-01, -2.23054251e-01, -1.00640950e-02,\n",
       "         2.11006953e-02,  2.21142355e-02,  2.24110647e-01, -4.02711735e-01,\n",
       "         1.37484201e-01, -2.21957990e-01, -5.33889397e-01, -6.05380124e-02,\n",
       "         1.64227595e+00,  1.39014065e-01, -1.15317326e-01, -1.67574476e-01,\n",
       "        -2.48196735e-01,  1.29768555e+00,  1.11403477e+00,  1.31000257e+00,\n",
       "         1.57443514e+00,  7.90638337e-01,  1.51936055e+00,  1.48358617e+00,\n",
       "         1.54226260e+00,  1.54156396e+00, -1.01172679e-01,  1.16442414e-01,\n",
       "        -1.06896846e-01, -1.03001567e-01, -1.40195985e-01, -7.76724813e-02,\n",
       "        -1.06740504e-01, -3.11675063e-02,  5.73341378e-01, -1.02413227e-01,\n",
       "         2.09065767e+00,  1.99562519e+00,  2.00049039e+00,  4.94433162e-02,\n",
       "         1.19583621e-01,  2.69635804e-01,  4.35000606e-01,  2.84588835e-02,\n",
       "        -1.97003825e-02, -8.40738911e-02,  1.41392224e-01,  2.82220728e-01,\n",
       "         2.12149674e-01]))"
      ]
     },
     "execution_count": 194,
     "metadata": {},
     "output_type": "execute_result"
    }
   ],
   "source": [
    "w0, w"
   ]
  },
  {
   "cell_type": "code",
   "execution_count": 195,
   "id": "e9c3e7a1-1c61-4b69-beef-533691b7eaed",
   "metadata": {},
   "outputs": [
    {
     "data": {
      "text/plain": [
       "np.float64(0.4470139051002729)"
      ]
     },
     "execution_count": 195,
     "metadata": {},
     "output_type": "execute_result"
    }
   ],
   "source": [
    "# now apply this to our test data set\n",
    "X_test = prepare_X(testData)\n",
    "y_pred = w0 + X_test.dot(w)\n",
    "\n",
    "RMSE(y_test, y_pred)"
   ]
  },
  {
   "cell_type": "code",
   "execution_count": 196,
   "id": "f71b6f9f-0576-4c2e-b386-62cb3aa2e1cd",
   "metadata": {},
   "outputs": [
    {
     "data": {
      "text/plain": [
       "<Axes: ylabel='Count'>"
      ]
     },
     "execution_count": 196,
     "metadata": {},
     "output_type": "execute_result"
    },
    {
     "data": {
      "image/png": "[encoded data removed]",
      "text/plain": [
       "<Figure size 640x480 with 1 Axes>"
      ]
     },
     "metadata": {},
     "output_type": "display_data"
    }
   ],
   "source": [
    "sns.histplot(y_pred, color=\"orange\", alpha=0.5, bins=70)\n",
    "sns.histplot(y_test, color=\"steelblue\", alpha=0.5, bins=70)"
   ]
  },
  {
   "cell_type": "code",
   "execution_count": 197,
   "id": "d489091f-6155-469d-9185-63e8b3f67135",
   "metadata": {},
   "outputs": [
    {
     "data": {
      "text/plain": [
       "{'make': 'volkswagen',\n",
       " 'model': 'jetta_sportwagen',\n",
       " 'year': 2014,\n",
       " 'engine_fuel_type': 'regular_unleaded',\n",
       " 'engine_hp': 170.0,\n",
       " 'engine_cylinders': 5.0,\n",
       " 'transmission_type': 'automatic',\n",
       " 'driven_wheels': 'front_wheel_drive',\n",
       " 'number_of_doors': 4.0,\n",
       " 'market_category': nan,\n",
       " 'vehicle_size': 'compact',\n",
       " 'vehicle_style': 'wagon',\n",
       " 'highway_mpg': 30,\n",
       " 'city_mpg': 23,\n",
       " 'popularity': 873}"
      ]
     },
     "execution_count": 197,
     "metadata": {},
     "output_type": "execute_result"
    }
   ],
   "source": [
    "car = testData.iloc[20].to_dict()\n",
    "car"
   ]
  },
  {
   "cell_type": "code",
   "execution_count": 198,
   "id": "4b764767-03f4-4a57-9e8d-5679bd3736fe",
   "metadata": {},
   "outputs": [
    {
     "data": {
      "text/html": [
       "<div>\n",
       "<style scoped>\n",
       "    .dataframe tbody tr th:only-of-type {\n",
       "        vertical-align: middle;\n",
       "    }\n",
       "\n",
       "    .dataframe tbody tr th {\n",
       "        vertical-align: top;\n",
       "    }\n",
       "\n",
       "    .dataframe thead th {\n",
       "        text-align: right;\n",
       "    }\n",
       "</style>\n",
       "<table border=\"1\" class=\"dataframe\">\n",
       "  <thead>\n",
       "    <tr style=\"text-align: right;\">\n",
       "      <th></th>\n",
       "      <th>make</th>\n",
       "      <th>model</th>\n",
       "      <th>year</th>\n",
       "      <th>engine_fuel_type</th>\n",
       "      <th>engine_hp</th>\n",
       "      <th>engine_cylinders</th>\n",
       "      <th>transmission_type</th>\n",
       "      <th>driven_wheels</th>\n",
       "      <th>number_of_doors</th>\n",
       "      <th>market_category</th>\n",
       "      <th>vehicle_size</th>\n",
       "      <th>vehicle_style</th>\n",
       "      <th>highway_mpg</th>\n",
       "      <th>city_mpg</th>\n",
       "      <th>popularity</th>\n",
       "    </tr>\n",
       "  </thead>\n",
       "  <tbody>\n",
       "    <tr>\n",
       "      <th>0</th>\n",
       "      <td>volkswagen</td>\n",
       "      <td>jetta_sportwagen</td>\n",
       "      <td>2014</td>\n",
       "      <td>regular_unleaded</td>\n",
       "      <td>170.0</td>\n",
       "      <td>5.0</td>\n",
       "      <td>automatic</td>\n",
       "      <td>front_wheel_drive</td>\n",
       "      <td>4.0</td>\n",
       "      <td>NaN</td>\n",
       "      <td>compact</td>\n",
       "      <td>wagon</td>\n",
       "      <td>30</td>\n",
       "      <td>23</td>\n",
       "      <td>873</td>\n",
       "    </tr>\n",
       "  </tbody>\n",
       "</table>\n",
       "</div>"
      ],
      "text/plain": [
       "         make             model  year  engine_fuel_type  engine_hp  \\\n",
       "0  volkswagen  jetta_sportwagen  2014  regular_unleaded      170.0   \n",
       "\n",
       "   engine_cylinders transmission_type      driven_wheels  number_of_doors  \\\n",
       "0               5.0         automatic  front_wheel_drive              4.0   \n",
       "\n",
       "   market_category vehicle_size vehicle_style  highway_mpg  city_mpg  \\\n",
       "0              NaN      compact         wagon           30        23   \n",
       "\n",
       "   popularity  \n",
       "0         873  "
      ]
     },
     "execution_count": 198,
     "metadata": {},
     "output_type": "execute_result"
    }
   ],
   "source": [
    "df_single = pd.DataFrame([car])\n",
    "df_single"
   ]
  },
  {
   "cell_type": "code",
   "execution_count": 199,
   "id": "006f17a6-6ffe-4777-9151-2056c6c3e823",
   "metadata": {},
   "outputs": [
    {
     "data": {
      "text/plain": [
       "'Predicted value = 31921.46'"
      ]
     },
     "execution_count": 199,
     "metadata": {},
     "output_type": "execute_result"
    }
   ],
   "source": [
    "X_single = prepare_X(df_single)\n",
    "y_pred = w0 + X_single.dot(w)\n",
    "\"Predicted value = \" + str(np.expm1(y_pred[0]).round(2))"
   ]
  },
  {
   "cell_type": "code",
   "execution_count": 200,
   "id": "13aabd75-109d-4552-adc6-ea347fb27bfe",
   "metadata": {},
   "outputs": [
    {
     "data": {
      "text/plain": [
       "'Actual: 22095.0'"
      ]
     },
     "execution_count": 200,
     "metadata": {},
     "output_type": "execute_result"
    }
   ],
   "source": [
    "\"Actual: \" + str(np.expm1(y_test[20]).round(2))"
   ]
  },
  {
   "cell_type": "code",
   "execution_count": null,
   "id": "b2565c47-82be-4b08-9af6-908f4022ee4d",
   "metadata": {},
   "outputs": [],
   "source": []
  }
 ],
 "metadata": {
  "kernelspec": {
   "display_name": "Python 3 (ipykernel)",
   "language": "python",
   "name": "python3"
  },
  "language_info": {
   "codemirror_mode": {
    "name": "ipython",
    "version": 3
   },
   "file_extension": ".py",
   "mimetype": "text/x-python",
   "name": "python",
   "nbconvert_exporter": "python",
   "pygments_lexer": "ipython3",
   "version": "3.12.1"
  }
 },
 "nbformat": 4,
 "nbformat_minor": 5
}
